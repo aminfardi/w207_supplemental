{
 "cells": [
  {
   "cell_type": "markdown",
   "metadata": {},
   "source": [
    "__NOTE__: We should only use this on the training data after we have split.\n",
    "\n",
    "If we do this before we do any train/test splitting, we need to ensure that all duplicated values end up in training. We should strive to preserve our test set to be actual process dynamics as much as possible... but we can mess with the train set a little bit more."
   ]
  },
  {
   "cell_type": "code",
   "execution_count": 10,
   "metadata": {
    "collapsed": true
   },
   "outputs": [],
   "source": [
    "import time\n",
    "import numpy as np\n",
    "import matplotlib.pyplot as plt\n",
    "import pandas as pd\n",
    "import os\n",
    "\n",
    "import warnings\n",
    "warnings.filterwarnings('ignore')"
   ]
  },
  {
   "cell_type": "code",
   "execution_count": 26,
   "metadata": {
    "collapsed": true
   },
   "outputs": [],
   "source": [
    "def oversample_extremes(data, low_val=42, low_weight=2, high_val=48, high_weight=2):\n",
    "    '''\n",
    "    A function that will create duplicate rows of specified rows in order to weight certain rows in machine learning training\n",
    "    \n",
    "    INPUTS:\n",
    "    data: a pandas dataframe\n",
    "    low_val: value of 'Quality' below which we will duplicate rows\n",
    "    low_weight: integer of effective weight desired for low values\n",
    "    high_val: value of 'Quality' above which we will duplicate rows\n",
    "    high_weight: integer for effective weight desired for high values\n",
    "    \n",
    "    RETURNS:\n",
    "    newdata: a pandas dataframe with duplicated rows according to the arguments passed\n",
    "    \n",
    "    NOTES:\n",
    "    \n",
    "    'low_weight' and 'high_weight' both need integer values and correspond to the effective weight of the sample compared\n",
    "    to the rest of the data in the dataframe. For an example, a weight of 2 would mean creating 1 duplicate (so the\n",
    "    row is now in the data twice), and a weight of 1 would return the same dataset (no additional duplicates created)\n",
    "    \n",
    "    Default cutoff values correspond to roughly anything outside the IQR\n",
    "    '''\n",
    "    # identify rows of interest\n",
    "    low_df = data.loc[data['Quality'] < low_val]\n",
    "    high_df = data.loc[data['Quality'] > high_val]\n",
    "    \n",
    "    newdata = data.copy()\n",
    "    \n",
    "    # loop to add on all the rows\n",
    "    \n",
    "    for i in range(low_weight-1): #pythonic indexing...\n",
    "        newdata = newdata.append(low_df, ignore_index = True)\n",
    "    for i in range(high_weight-1):\n",
    "        newdata = newdata.append(high_df, ignore_index = True)\n",
    "    \n",
    "    return(newdata)\n",
    "    "
   ]
  },
  {
   "cell_type": "code",
   "execution_count": 27,
   "metadata": {
    "collapsed": true
   },
   "outputs": [],
   "source": [
    "data = pd.read_csv(\"../../../datasets/anonymized_SAP_data.csv\")"
   ]
  },
  {
   "cell_type": "code",
   "execution_count": 28,
   "metadata": {},
   "outputs": [
    {
     "data": {
      "text/plain": [
       "count    2709.000000\n",
       "mean       45.184728\n",
       "std         1.886299\n",
       "min        27.150000\n",
       "25%        44.352500\n",
       "50%        45.300000\n",
       "75%        46.310000\n",
       "max        50.510000\n",
       "Name: Quality, dtype: float64"
      ]
     },
     "execution_count": 28,
     "metadata": {},
     "output_type": "execute_result"
    }
   ],
   "source": [
    "data['Quality'].describe()"
   ]
  },
  {
   "cell_type": "code",
   "execution_count": 29,
   "metadata": {},
   "outputs": [],
   "source": [
    "oversampled = oversample_extremes(data)"
   ]
  },
  {
   "cell_type": "code",
   "execution_count": 30,
   "metadata": {},
   "outputs": [
    {
     "data": {
      "text/plain": [
       "count    2977.000000\n",
       "mean       45.088875\n",
       "std         2.248073\n",
       "min        27.150000\n",
       "25%        44.210000\n",
       "50%        45.290000\n",
       "75%        46.392500\n",
       "max        50.510000\n",
       "Name: Quality, dtype: float64"
      ]
     },
     "execution_count": 30,
     "metadata": {},
     "output_type": "execute_result"
    }
   ],
   "source": [
    "oversampled['Quality'].describe()"
   ]
  },
  {
   "cell_type": "code",
   "execution_count": 32,
   "metadata": {},
   "outputs": [
    {
     "data": {
      "text/plain": [
       "(148, 23)"
      ]
     },
     "execution_count": 32,
     "metadata": {},
     "output_type": "execute_result"
    }
   ],
   "source": [
    "data.loc[data['Quality'] < 42].shape"
   ]
  },
  {
   "cell_type": "code",
   "execution_count": 34,
   "metadata": {},
   "outputs": [
    {
     "data": {
      "text/plain": [
       "(120, 23)"
      ]
     },
     "execution_count": 34,
     "metadata": {},
     "output_type": "execute_result"
    }
   ],
   "source": [
    "data.loc[data['Quality'] > 48].shape"
   ]
  },
  {
   "cell_type": "code",
   "execution_count": 35,
   "metadata": {},
   "outputs": [
    {
     "data": {
      "text/plain": [
       "2977"
      ]
     },
     "execution_count": 35,
     "metadata": {},
     "output_type": "execute_result"
    }
   ],
   "source": [
    "2709 + 148 + 120"
   ]
  },
  {
   "cell_type": "markdown",
   "metadata": {},
   "source": [
    "Function is working how we want it to"
   ]
  },
  {
   "cell_type": "code",
   "execution_count": 36,
   "metadata": {},
   "outputs": [
    {
     "data": {
      "text/plain": [
       "(3097, 23)"
      ]
     },
     "execution_count": 36,
     "metadata": {},
     "output_type": "execute_result"
    }
   ],
   "source": [
    "oversampled = oversample_extremes(data, high_weight = 3)\n",
    "oversampled.shape"
   ]
  },
  {
   "cell_type": "code",
   "execution_count": null,
   "metadata": {
    "collapsed": true
   },
   "outputs": [],
   "source": []
  }
 ],
 "metadata": {
  "kernelspec": {
   "display_name": "Python 3",
   "language": "python",
   "name": "python3"
  },
  "language_info": {
   "codemirror_mode": {
    "name": "ipython",
    "version": 3
   },
   "file_extension": ".py",
   "mimetype": "text/x-python",
   "name": "python",
   "nbconvert_exporter": "python",
   "pygments_lexer": "ipython3",
   "version": "3.6.3"
  }
 },
 "nbformat": 4,
 "nbformat_minor": 2
}
