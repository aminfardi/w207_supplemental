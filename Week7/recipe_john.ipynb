{
 "cells": [
  {
   "cell_type": "code",
   "execution_count": 42,
   "metadata": {
    "collapsed": true
   },
   "outputs": [],
   "source": [
    "# imports\n",
    "import time\n",
    "import numpy as np\n",
    "import matplotlib.pyplot as plt\n",
    "import pandas as pd\n",
    "import os\n",
    "import json\n",
    "from sklearn.metrics import classification_report\n",
    "from sklearn.model_selection import GridSearchCV\n",
    "from sklearn.metrics import accuracy_score\n",
    "import re\n",
    "\n",
    "\n",
    "%matplotlib inline"
   ]
  },
  {
   "cell_type": "code",
   "execution_count": 5,
   "metadata": {},
   "outputs": [
    {
     "data": {
      "text/plain": [
       "[{'cuisine': 'greek',\n",
       "  'id': 10259,\n",
       "  'ingredients': ['romaine lettuce',\n",
       "   'black olives',\n",
       "   'grape tomatoes',\n",
       "   'garlic',\n",
       "   'pepper',\n",
       "   'purple onion',\n",
       "   'seasoning',\n",
       "   'garbanzo beans',\n",
       "   'feta cheese crumbles']},\n",
       " {'cuisine': 'southern_us',\n",
       "  'id': 25693,\n",
       "  'ingredients': ['plain flour',\n",
       "   'ground pepper',\n",
       "   'salt',\n",
       "   'tomatoes',\n",
       "   'ground black pepper',\n",
       "   'thyme',\n",
       "   'eggs',\n",
       "   'green tomatoes',\n",
       "   'yellow corn meal',\n",
       "   'milk',\n",
       "   'vegetable oil']}]"
      ]
     },
     "execution_count": 5,
     "metadata": {},
     "output_type": "execute_result"
    }
   ],
   "source": [
    "# read in the data\n",
    "with open('../../datasets/recipes/train.json') as f:\n",
    "    train_data = json.load(f)\n",
    "train_data[0:2]"
   ]
  },
  {
   "cell_type": "code",
   "execution_count": 6,
   "metadata": {},
   "outputs": [
    {
     "data": {
      "text/plain": [
       "[{'id': 18009,\n",
       "  'ingredients': ['baking powder',\n",
       "   'eggs',\n",
       "   'all-purpose flour',\n",
       "   'raisins',\n",
       "   'milk',\n",
       "   'white sugar']},\n",
       " {'id': 28583,\n",
       "  'ingredients': ['sugar',\n",
       "   'egg yolks',\n",
       "   'corn starch',\n",
       "   'cream of tartar',\n",
       "   'bananas',\n",
       "   'vanilla wafers',\n",
       "   'milk',\n",
       "   'vanilla extract',\n",
       "   'toasted pecans',\n",
       "   'egg whites',\n",
       "   'light rum']}]"
      ]
     },
     "execution_count": 6,
     "metadata": {},
     "output_type": "execute_result"
    }
   ],
   "source": [
    "with open('../../datasets/recipes/test.json') as f:\n",
    "    test_data = json.load(f)\n",
    "test_data[0:2]"
   ]
  },
  {
   "cell_type": "markdown",
   "metadata": {},
   "source": [
    "Okay so taking a quick look at our data, we have the following format:\n",
    "* Recipe Entry\n",
    "    * Train only: Cuisine (prediction value)\n",
    "    * ID\n",
    "    * Ingredients\n",
    "        * Ingredient 1\n",
    "        * ...\n",
    "        * Ingredient n\n",
    "        \n",
    "We're going to need to put these into a way that we can consume for machine learning. A few things to note:\n",
    "* The ingredients seem to be kind of specific instead of generic. We may need to do some feature engineering here to make broader classes of ingredients (rum vs light rum, almonds vs toasted almond, etc...).\n",
    "* There are different number of ingredients in each recipe. We will likely need to take a sparse-matrix feature matrix in order to play around with this."
   ]
  },
  {
   "cell_type": "code",
   "execution_count": 25,
   "metadata": {},
   "outputs": [
    {
     "data": {
      "text/plain": [
       "(array(['brazilian', 'british', 'cajun_creole', 'chinese', 'filipino',\n",
       "        'french', 'greek', 'indian', 'irish', 'italian', 'jamaican',\n",
       "        'japanese', 'korean', 'mexican', 'moroccan', 'russian',\n",
       "        'southern_us', 'spanish', 'thai', 'vietnamese'], dtype='<U12'),\n",
       " array([ 467,  804, 1546, 2673,  755, 2646, 1175, 3003,  667, 7838,  526,\n",
       "        1423,  830, 6438,  821,  489, 4320,  989, 1539,  825], dtype=int64))"
      ]
     },
     "execution_count": 25,
     "metadata": {},
     "output_type": "execute_result"
    }
   ],
   "source": [
    "# ids will not be important for the training, we don't have to worry about extracting these\n",
    "train_labels = np.array([train_data[x]['cuisine'] for x in range(len(train_data))])\n",
    "unique_ar = np.unique(train_labels, return_counts=True)\n",
    "unique_ar"
   ]
  },
  {
   "cell_type": "code",
   "execution_count": 29,
   "metadata": {},
   "outputs": [
    {
     "data": {
      "image/png": "[encoded data removed]",
      "text/plain": [
       "<Figure size 432x288 with 1 Axes>"
      ]
     },
     "metadata": {},
     "output_type": "display_data"
    }
   ],
   "source": [
    "# quick plot of how many of each cuisine are in this dataset\n",
    "x = np.arange(unique_ar[0].shape[0])\n",
    "plt.barh(x,unique_ar[1])\n",
    "plt.yticks(x, unique_ar[0])\n",
    "plt.show()"
   ]
  },
  {
   "cell_type": "markdown",
   "metadata": {},
   "source": [
    "OK so we have a lot of italian and mexican and southern recipes. We should make sure our validation set has a good amount of each class so we can see better where we're struggling. Before we get to that though, we ought to turn our features into something useable."
   ]
  },
  {
   "cell_type": "code",
   "execution_count": 36,
   "metadata": {},
   "outputs": [
    {
     "data": {
      "text/plain": [
       "(6714,)"
      ]
     },
     "execution_count": 36,
     "metadata": {},
     "output_type": "execute_result"
    }
   ],
   "source": [
    "# extract all features from training\n",
    "train_features = np.array([train_data[x]['ingredients'][i] for x in range(len(train_data)) \\\n",
    "                           for i in range(len(train_data[x]['ingredients']))])\n",
    "unique_features = np.unique(train_features, return_counts=True)\n",
    "unique_features[0].shape"
   ]
  },
  {
   "cell_type": "markdown",
   "metadata": {},
   "source": [
    "OK there's no way I'm looking at all 6714 different ingredients, but we should take a look at a few to see if we can better understand them"
   ]
  },
  {
   "cell_type": "code",
   "execution_count": 40,
   "metadata": {},
   "outputs": [
    {
     "data": {
      "text/plain": [
       "array(['squash blossoms', 'sliced kalamata olives', 'cooked vermicelli',\n",
       "       'umeboshi vinegar', 'cranberry juice cocktail', 'English muffins',\n",
       "       'turkey', 'vegetable juice', 'Bragg Liquid Aminos', 'horseradish',\n",
       "       'turkey thigh', 'cubed bread', 'Old El Paso Flour Tortillas',\n",
       "       'cheese tortellini', 'granita', 'hard cider', 'angel food cake',\n",
       "       'dates', 'nutmeg', 'jerk paste', 'low-fat cheddar', 'fructose',\n",
       "       'soda bread', 'white cheddar cheese', 'drippings',\n",
       "       'refrigerated buttermilk biscuits', 'Zatarains Creole Seasoning',\n",
       "       'pickled jalapenos', 'half & half',\n",
       "       'less sodium fat free chicken broth', 'mole sauce',\n",
       "       'pea eggplants', 'chambord', 'small new potatoes', 'tortillas',\n",
       "       'Old El Pasoâ„¢ chopped green chiles', 'grana padano',\n",
       "       'blood orange juice', 'quick-cooking barley', 'mustard oil',\n",
       "       'clover honey', 'togarashi', 'soy milk', 'tenderloin roast',\n",
       "       'mian', 'sandwich rolls', 'sour salt', 'bone-in ribeye steak',\n",
       "       'rubbed sage', 'corn'], dtype='<U74')"
      ]
     },
     "execution_count": 40,
     "metadata": {},
     "output_type": "execute_result"
    }
   ],
   "source": [
    "np.random.seed(50)\n",
    "return_items = np.random.randint(0, unique_features[0].shape[0], 50)\n",
    "unique_features[0][return_items]"
   ]
  },
  {
   "cell_type": "markdown",
   "metadata": {},
   "source": [
    "Turning these into something remotely generalizable looks to be like a difficult problem. Going to do a bit of internet research here...\n",
    "\n",
    "__Ideas__:\n",
    "\n",
    "https://www.kaggle.com/ccorbi/word2vec-with-ingredients\n",
    "\n",
    "https://www.kaggle.com/c/whats-cooking/discussion/23727\n",
    "\n",
    "https://www.kaggle.com/khyh00/deep-cooking\n",
    "\n"
   ]
  },
  {
   "cell_type": "markdown",
   "metadata": {},
   "source": [
    "So the first thing we can do is a little bit of filtering... Let's take out some words from the training that will be re-used a lot in ingredients and not give us much value."
   ]
  },
  {
   "cell_type": "code",
   "execution_count": 61,
   "metadata": {},
   "outputs": [
    {
     "data": {
      "text/plain": [
       "(6516,)"
      ]
     },
     "execution_count": 61,
     "metadata": {},
     "output_type": "execute_result"
    }
   ],
   "source": [
    "all_recipes = list()\n",
    "for recipe in train_data:\n",
    "    clean_recipe = list()\n",
    "    \n",
    "    for ingredient in recipe['ingredients']:\n",
    "        # remove this description from the ingredients\n",
    "        # minimal preprocessing\n",
    "        ingredient =  re.sub(r'\\(.*oz.\\)|crushed|crumbles|ground|minced|powder|chopped|sliced|roasted|diced',\n",
    "                             '', \n",
    "                             ingredient)\n",
    "        clean_recipe.append(ingredient.strip())\n",
    "    all_recipes.append(clean_recipe)\n",
    "np.unique(np.array([all_recipes[i][j] for i in range(len(all_recipes)) for j in range(len(all_recipes[i]))])).shape"
   ]
  },
  {
   "cell_type": "markdown",
   "metadata": {},
   "source": [
    "Well, doing that process brings down our features by about 200, which is helpful but not really quite what I was hoping for. Maybe we can look at a few more of these ingredients and see if there's more that can be done."
   ]
  },
  {
   "cell_type": "code",
   "execution_count": 62,
   "metadata": {},
   "outputs": [
    {
     "data": {
      "text/plain": [
       "array(['gorgonzola', 'deep dish pie crust', 'sansho',\n",
       "       'low-fat vegetarian chili with beans', 'scallions',\n",
       "       'cola-flavored carbonated beverage', 'soy milk',\n",
       "       'granulated white sugar', 'creamed horseradish',\n",
       "       'canned chicken breast', 'coffee low-fat frozen yogurt',\n",
       "       'large snails', 'turkey legs', 'pound cake mix',\n",
       "       'Jagermeister Liqueur', 'brown rice flour', 'hazelnut liqueur',\n",
       "       'dried coconut flakes', 'prepared guacamole', 'cashew chop unsalt',\n",
       "       'pancit canton', 'marjoram leaves', 'irish bacon', 'bitter melon',\n",
       "       'quick yeast', 'bone in', 'sour mix', 'fresh brussels sprouts',\n",
       "       'savoiardi', 'pomelo', 'whole wheat french bread',\n",
       "       'self-rising cornmeal', 'frozen whip topping, thaw',\n",
       "       'pure acai puree', 'lean ground beef', 'apricots', 'ear of corn',\n",
       "       'cooked italian meatballs', 'sloe gin',\n",
       "       'granular no-calorie sucralose sweetener', 'cane sugar',\n",
       "       'boneless chicken thigh fillets', 'reduced-fat sour cream',\n",
       "       'tartlet shells', 'lavender honey', 'snow pea pods',\n",
       "       'salad greens', 'garlic powder', 'pita pockets',\n",
       "       'fat-free mayonnaise', 'red chard', 'chunky tomato salsa',\n",
       "       'low-fat pasta sauce', 'ground allspice', 'jamaica',\n",
       "       'aged Manchego cheese', 'liquid honey', 'pandan extract',\n",
       "       'diced tomatoes in juice', 'turkey meat',\n",
       "       'mandarin orange segments', 'barilla',\n",
       "       'powdered vanilla pudding mix', 'raisin bread', 'panko',\n",
       "       'italian salad dressing mix', 'coriander', 'grass-fed butter',\n",
       "       'drippings', 'vegetable broth', 'glazed pecans', 'treacle',\n",
       "       'spaghetti, cook and drain', 'smithfield ham', 'cranberry sauce',\n",
       "       'KnorrÂ® Fiesta Sidesâ„¢ - Mexican Rice', 'purple onion',\n",
       "       'guava paste', 'ciabatta', 'bawang goreng', 'granny smith apples',\n",
       "       'chopped cilantro', 'low-fat vanilla yogurt', 'turkey breast',\n",
       "       'fenugreek', 'chicken pan drippings', 'mini chocolate chips',\n",
       "       'boneless, skinless chicken breast', 'harissa paste',\n",
       "       'organic soy sauce', 'brown rice', 'cipollini',\n",
       "       'shredded reduced fat cheddar cheese', 'sirloin steak',\n",
       "       'whole wheat spaghetti', 'frozen sweetened raspberries',\n",
       "       'george dickel', 'chinese duck sauce', 'hot curry powder',\n",
       "       'flowering garlic chives', 'white creme de cacao',\n",
       "       'sweet bean paste', 'yellow curry paste', 'roasted chestnuts',\n",
       "       'malt powder', 'smoked sweet Spanish paprika', 'panela',\n",
       "       'turkey breast', 'stick butter', 'canola mayonnaise',\n",
       "       'boneless chuck roast', 'ginger paste', 'lemon juice',\n",
       "       'frozen whip topping, thaw', 'whipping heavy cream',\n",
       "       'shredded coleslaw mix', 'cremini mushrooms', 'raw cane sugar',\n",
       "       'extra virgin coconut oil', '2% reduced-fat milk', 'dashi',\n",
       "       'peach purÃ©e', 'paccheri', 'green soybeans',\n",
       "       'boneless beef rib eye steaks', 'balsamic vinegar',\n",
       "       'pitted black olives', 'cooking oil', 'parsnips', 'dried oregano',\n",
       "       'beef for stew', \"za'atar\", 'cactus', 'emerils original essence',\n",
       "       'minced meat', 'dip mix', 'apple slice', 'minced ginger',\n",
       "       'cinnamon graham crackers', 'liver', 'dipping chocolate',\n",
       "       'knorr chipotl minicub', 'coffee granules', 'hakusai',\n",
       "       'e-fu noodl', 'hot pepper sauce', 'savoy spinach', 'maple sugar',\n",
       "       'roast beef', 'ketchup'], dtype='<U74')"
      ]
     },
     "execution_count": 62,
     "metadata": {},
     "output_type": "execute_result"
    }
   ],
   "source": [
    "np.random.seed(125)\n",
    "return_items = np.random.randint(0, unique_features[0].shape[0], 150)\n",
    "unique_features[0][return_items]"
   ]
  },
  {
   "cell_type": "markdown",
   "metadata": {},
   "source": [
    "Yeah honestly I don't know what to do here. What I do know is that I need to think about getting these somehow into a mtrix-like form in order to put into any machine learning algorithm. Turns out that pandas has some nice ways to do this that I didn't know about."
   ]
  },
  {
   "cell_type": "code",
   "execution_count": 64,
   "metadata": {},
   "outputs": [],
   "source": [
    "import nltk\n",
    "import re\n",
    "from nltk.stem import WordNetLemmatizer\n",
    "from sklearn.svm import LinearSVC\n",
    "from sklearn.metrics import classification_report\n",
    "import sklearn.metrics\n",
    "from sklearn.feature_extraction.text import TfidfVectorizer\n",
    "from sklearn.linear_model import LogisticRegression\n",
    "\n"
   ]
  },
  {
   "cell_type": "code",
   "execution_count": 67,
   "metadata": {},
   "outputs": [
    {
     "name": "stdout",
     "output_type": "stream",
     "text": [
      "showing info https://raw.githubusercontent.com/nltk/nltk_data/gh-pages/index.xml\n"
     ]
    },
    {
     "data": {
      "text/plain": [
       "True"
      ]
     },
     "execution_count": 67,
     "metadata": {},
     "output_type": "execute_result"
    }
   ],
   "source": [
    "# nltk.download()\n",
    "# if you haven't downloaded, you'll need to"
   ]
  },
  {
   "cell_type": "code",
   "execution_count": 68,
   "metadata": {},
   "outputs": [
    {
     "name": "stdout",
     "output_type": "stream",
     "text": [
      "cat\n",
      "cactus\n",
      "goose\n",
      "rock\n",
      "python\n",
      "good\n",
      "best\n",
      "run\n",
      "run\n"
     ]
    }
   ],
   "source": [
    "lemmatizer = WordNetLemmatizer()\n",
    "\n",
    "print(lemmatizer.lemmatize(\"cats\"))\n",
    "print(lemmatizer.lemmatize(\"cacti\"))\n",
    "print(lemmatizer.lemmatize(\"geese\"))\n",
    "print(lemmatizer.lemmatize(\"rocks\"))\n",
    "print(lemmatizer.lemmatize(\"python\"))\n",
    "print(lemmatizer.lemmatize(\"better\", pos=\"a\"))\n",
    "print(lemmatizer.lemmatize(\"best\", pos=\"a\"))\n",
    "print(lemmatizer.lemmatize(\"run\"))\n",
    "print(lemmatizer.lemmatize(\"run\",'v'))"
   ]
  },
  {
   "cell_type": "markdown",
   "metadata": {},
   "source": [
    "I'm going to use code from another notebook that includes using natural language toolkit (nltk) for lemmatization. In short, lemmatization identifies the kind of \"root idea\" of a word according to what it is and what part of speech it is. So this will reduce some of the variation in our terms."
   ]
  },
  {
   "cell_type": "code",
   "execution_count": 69,
   "metadata": {},
   "outputs": [],
   "source": [
    "# code from https://www.kaggle.com/dipayan/whatscooking-python\n",
    "# first line brings in all the data from json into pandas dataframe. in this case, the structure maps well\n",
    "# second line brings the ingredients into a new column called 'ingredients_clean_string' which\n",
    "#     has them all in a single string separated by spaces and a comma\n",
    "# third line lemmatizes the ingredients as they are brought into a new dataframe column\n",
    "\n",
    "traindf = pd.read_json(\"../../datasets/recipes/train.json\")\n",
    "traindf['ingredients_clean_string'] = [' , '.join(z).strip() for z in traindf['ingredients']]  \n",
    "traindf['ingredients_string'] = [' '.join([WordNetLemmatizer().lemmatize(re.sub('[^A-Za-z]', ' ', line)) for line in lists]).strip() for lists in traindf['ingredients']]       \n",
    "\n",
    "testdf = pd.read_json(\"../../datasets/recipes/test.json\") \n",
    "testdf['ingredients_clean_string'] = [' , '.join(z).strip() for z in testdf['ingredients']]\n",
    "testdf['ingredients_string'] = [' '.join([WordNetLemmatizer().lemmatize(re.sub('[^A-Za-z]', ' ', line)) for line in lists]).strip() for lists in testdf['ingredients']]       \n"
   ]
  },
  {
   "cell_type": "code",
   "execution_count": 70,
   "metadata": {},
   "outputs": [
    {
     "data": {
      "text/html": [
       "<div>\n",
       "<style>\n",
       "    .dataframe thead tr:only-child th {\n",
       "        text-align: right;\n",
       "    }\n",
       "\n",
       "    .dataframe thead th {\n",
       "        text-align: left;\n",
       "    }\n",
       "\n",
       "    .dataframe tbody tr th {\n",
       "        vertical-align: top;\n",
       "    }\n",
       "</style>\n",
       "<table border=\"1\" class=\"dataframe\">\n",
       "  <thead>\n",
       "    <tr style=\"text-align: right;\">\n",
       "      <th></th>\n",
       "      <th>cuisine</th>\n",
       "      <th>id</th>\n",
       "      <th>ingredients</th>\n",
       "      <th>ingredients_clean_string</th>\n",
       "      <th>ingredients_string</th>\n",
       "    </tr>\n",
       "  </thead>\n",
       "  <tbody>\n",
       "    <tr>\n",
       "      <th>0</th>\n",
       "      <td>greek</td>\n",
       "      <td>10259</td>\n",
       "      <td>[romaine lettuce, black olives, grape tomatoes...</td>\n",
       "      <td>romaine lettuce , black olives , grape tomatoe...</td>\n",
       "      <td>romaine lettuce black olives grape tomatoes ga...</td>\n",
       "    </tr>\n",
       "    <tr>\n",
       "      <th>1</th>\n",
       "      <td>southern_us</td>\n",
       "      <td>25693</td>\n",
       "      <td>[plain flour, ground pepper, salt, tomatoes, g...</td>\n",
       "      <td>plain flour , ground pepper , salt , tomatoes ...</td>\n",
       "      <td>plain flour ground pepper salt tomato ground b...</td>\n",
       "    </tr>\n",
       "    <tr>\n",
       "      <th>2</th>\n",
       "      <td>filipino</td>\n",
       "      <td>20130</td>\n",
       "      <td>[eggs, pepper, salt, mayonaise, cooking oil, g...</td>\n",
       "      <td>eggs , pepper , salt , mayonaise , cooking oil...</td>\n",
       "      <td>egg pepper salt mayonaise cooking oil green ch...</td>\n",
       "    </tr>\n",
       "    <tr>\n",
       "      <th>3</th>\n",
       "      <td>indian</td>\n",
       "      <td>22213</td>\n",
       "      <td>[water, vegetable oil, wheat, salt]</td>\n",
       "      <td>water , vegetable oil , wheat , salt</td>\n",
       "      <td>water vegetable oil wheat salt</td>\n",
       "    </tr>\n",
       "    <tr>\n",
       "      <th>4</th>\n",
       "      <td>indian</td>\n",
       "      <td>13162</td>\n",
       "      <td>[black pepper, shallots, cornflour, cayenne pe...</td>\n",
       "      <td>black pepper , shallots , cornflour , cayenne ...</td>\n",
       "      <td>black pepper shallot cornflour cayenne pepper ...</td>\n",
       "    </tr>\n",
       "  </tbody>\n",
       "</table>\n",
       "</div>"
      ],
      "text/plain": [
       "       cuisine     id                                        ingredients  \\\n",
       "0        greek  10259  [romaine lettuce, black olives, grape tomatoes...   \n",
       "1  southern_us  25693  [plain flour, ground pepper, salt, tomatoes, g...   \n",
       "2     filipino  20130  [eggs, pepper, salt, mayonaise, cooking oil, g...   \n",
       "3       indian  22213                [water, vegetable oil, wheat, salt]   \n",
       "4       indian  13162  [black pepper, shallots, cornflour, cayenne pe...   \n",
       "\n",
       "                            ingredients_clean_string  \\\n",
       "0  romaine lettuce , black olives , grape tomatoe...   \n",
       "1  plain flour , ground pepper , salt , tomatoes ...   \n",
       "2  eggs , pepper , salt , mayonaise , cooking oil...   \n",
       "3               water , vegetable oil , wheat , salt   \n",
       "4  black pepper , shallots , cornflour , cayenne ...   \n",
       "\n",
       "                                  ingredients_string  \n",
       "0  romaine lettuce black olives grape tomatoes ga...  \n",
       "1  plain flour ground pepper salt tomato ground b...  \n",
       "2  egg pepper salt mayonaise cooking oil green ch...  \n",
       "3                     water vegetable oil wheat salt  \n",
       "4  black pepper shallot cornflour cayenne pepper ...  "
      ]
     },
     "execution_count": 70,
     "metadata": {},
     "output_type": "execute_result"
    }
   ],
   "source": [
    "traindf.head()"
   ]
  },
  {
   "cell_type": "code",
   "execution_count": 73,
   "metadata": {},
   "outputs": [
    {
     "data": {
      "text/plain": [
       "(39774, 2963)"
      ]
     },
     "execution_count": 73,
     "metadata": {},
     "output_type": "execute_result"
    }
   ],
   "source": [
    "corpus_train = traindf['ingredients_string']\n",
    "vectorizer_train = TfidfVectorizer(stop_words='english', ngram_range = ( 1 , 1 ),analyzer=\"word\", \\\n",
    "                               max_df = .57 , binary=False , token_pattern=r'\\w+' , sublinear_tf=False)\n",
    "\n",
    "tfidf_tr=vectorizer_train.fit_transform(corpus_train)\n",
    "tfidf_tr.shape"
   ]
  },
  {
   "cell_type": "markdown",
   "metadata": {},
   "source": [
    "So, by using this method with lemmatizing and Term-document inverse frequency weighting, we get this down to 2963 features. Documentation for the call is here: https://scikit-learn.org/stable/modules/generated/sklearn.feature_extraction.text.TfidfVectorizer.html#sklearn.feature_extraction.text.TfidfVectorizer\n",
    "\n",
    "Basically, the important parts:\n",
    "* We are excluded pre-selected stop words for the english language. These are all presumed to not really bring a lot of meaning and we shouldn't be losing a lot here.\n",
    "* We are only using 1-grams so this is being done on a word-by-word basis\n",
    "* We are analyzing word-by-word, extraneous characters are not included\n",
    "* We are only including words that are found in 57% or more of the documents. May want to think of this as a parameter to tune\n",
    "* We are choosing not to use smoothing"
   ]
  },
  {
   "cell_type": "code",
   "execution_count": null,
   "metadata": {
    "collapsed": true
   },
   "outputs": [],
   "source": []
  }
 ],
 "metadata": {
  "kernelspec": {
   "display_name": "Python 3",
   "language": "python",
   "name": "python3"
  },
  "language_info": {
   "codemirror_mode": {
    "name": "ipython",
    "version": 3
   },
   "file_extension": ".py",
   "mimetype": "text/x-python",
   "name": "python",
   "nbconvert_exporter": "python",
   "pygments_lexer": "ipython3",
   "version": "3.6.3"
  }
 },
 "nbformat": 4,
 "nbformat_minor": 2
}
