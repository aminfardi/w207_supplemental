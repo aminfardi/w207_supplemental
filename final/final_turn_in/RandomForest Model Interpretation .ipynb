{
 "cells": [
  {
   "cell_type": "markdown",
   "metadata": {},
   "source": [
    "# RandomForest Model interpretation\n",
    "\n",
    "Based on summary of models, we selected `no_tempinc.csv_w3` since it had the best r-squared and error metrics for both RandomForest and XGB models. This input did not use the created temperature increase variables, but did incorporate the sampling weights.\n",
    "\n",
    "We will begin by generating the RandomForest model using our selected input. In the process we also incorporated a column of random numbers, with the intent of flagging any features that fall below the importance of a random numbers column."
   ]
  },
  {
   "cell_type": "code",
   "execution_count": 2,
   "metadata": {},
   "outputs": [],
   "source": [
    "#Necessary packages\n",
    "import numpy as np\n",
    "import matplotlib.pyplot as plt\n",
    "import pandas as pd\n",
    "import os\n",
    "import seaborn as sns\n",
    "%matplotlib inline\n",
    "import math\n",
    "from sklearn.model_selection import train_test_split\n",
    "from sklearn.metrics import mean_absolute_error, mean_squared_error, r2_score\n",
    "from sklearn.ensemble import RandomForestRegressor\n",
    "\n",
    "# annoying warnings\n",
    "import warnings\n",
    "warnings.filterwarnings('ignore')\n",
    "\n",
    "np.random.seed(42)"
   ]
  },
  {
   "cell_type": "code",
   "execution_count": 3,
   "metadata": {},
   "outputs": [],
   "source": [
    "#Functions to be utilized through analysis:\n",
    "def display_all(df):\n",
    "    with pd.option_context(\"display.max_rows\", 100, \"display.max_columns\", 100): \n",
    "        display(df)\n",
    "\n",
    "def mae(rf, X_val, y_val):\n",
    "    return mean_absolute_error(y_val, rf.predict(X_val))\n",
    "\n",
    "def r2(rf, X_val, y_val):\n",
    "    return r2_score(y_val, rf.predict(X_val))\n",
    "\n",
    "def mse(rf, X_val, y_val):\n",
    "    return mean_squared_error(y_val, rf.predict(X_val))\n",
    "        \n",
    "def oversample_extremes(data, low_val=42, low_weight=2, high_val=48, high_weight=2):\n",
    "    '''\n",
    "    A function that will create duplicate rows of specified rows in order to weight certain rows in machine learning training\n",
    "    \n",
    "    INPUTS:\n",
    "    data: a pandas dataframe\n",
    "    low_val: value of 'Quality' below which we will duplicate rows\n",
    "    low_weight: integer of effective weight desired for low values\n",
    "    high_val: value of 'Quality' above which we will duplicate rows\n",
    "    high_weight: integer for effective weight desired for high values\n",
    "    \n",
    "    RETURNS:\n",
    "    newdata: a pandas dataframe with duplicated rows according to the arguments passed\n",
    "    \n",
    "    NOTES:\n",
    "    \n",
    "    'low_weight' and 'high_weight' both need integer values and correspond to the effective weight of the sample compared\n",
    "    to the rest of the data in the dataframe. For an example, a weight of 2 would mean creating 1 duplicate (so the\n",
    "    row is now in the data twice), and a weight of 1 would return the same dataset (no additional duplicates created)\n",
    "    \n",
    "    Default cutoff values correspond to roughly anything outside the IQR\n",
    "    '''\n",
    "    # identify rows of interest\n",
    "    low_df = data.loc[data['Quality'] < low_val]\n",
    "    high_df = data.loc[data['Quality'] > high_val]\n",
    "    \n",
    "    newdata = data.copy()\n",
    "    \n",
    "    # loop to add on all the rows\n",
    "    \n",
    "    for i in range(low_weight-1): #pythonic indexing...\n",
    "        newdata = newdata.append(low_df, ignore_index = True)\n",
    "    for i in range(high_weight-1):\n",
    "        newdata = newdata.append(high_df, ignore_index = True)\n",
    "    \n",
    "    return(newdata)"
   ]
  },
  {
   "cell_type": "code",
   "execution_count": 4,
   "metadata": {},
   "outputs": [
    {
     "name": "stdout",
     "output_type": "stream",
     "text": [
      "Test set R2: 0.346\n",
      "Test set MAE: 0.962\n",
      "Test set MSE: 2.389\n",
      "Validation set R2: 0.548\n",
      "Validation set MAE: 0.801\n",
      "Validation set MSE: 1.476\n"
     ]
    }
   ],
   "source": [
    "#Create RandomForest model again:\n",
    "#Set the random seed to match original model creations:\n",
    "np.random.seed(42)\n",
    "\n",
    "#Read in the best input:\n",
    "df = pd.read_csv('p_data/no_tempinc.csv')\n",
    "df.drop(['Unnamed: 0', 'CampaignID'], axis = 1, inplace = True)\n",
    "\n",
    "train, val, test = np.split(df.sample(frac=1), [int(.6*len(df)), int(.8*len(df))])\n",
    "\n",
    "#Incorporate sampling weighing of 3 for the training set:\n",
    "train = oversample_extremes(train, low_weight=3, high_weight = 3)\n",
    "\n",
    "y_train = train['Quality']\n",
    "train.drop(['Quality'], axis = 1, inplace = True)\n",
    "X_train = train\n",
    "X_train['Random'] = np.random.random(size=len(X_train))\n",
    "\n",
    "y_val = val['Quality']\n",
    "val.drop(['Quality'], axis = 1, inplace = True)\n",
    "X_val = val\n",
    "X_val['Random'] = np.random.random(size=len(X_val))\n",
    "\n",
    "y_test = test['Quality']\n",
    "test.drop(['Quality'], axis = 1, inplace = True)\n",
    "X_test = test\n",
    "X_test['Random'] = np.random.random(size=len(X_test))\n",
    "\n",
    "rf_reg = RandomForestRegressor(n_jobs=5, n_estimators= 120, max_depth= 10,\n",
    "                min_samples_split = 9,min_samples_leaf = 4,\n",
    "                min_weight_fraction_leaf= 0.0)\n",
    "\n",
    "rf_fit = rf_reg.fit(X_train, y_train)\n",
    "rf_reg_preds_val = rf_fit.predict(X_val)\n",
    "rf_reg_preds_test = rf_fit.predict(X_test)\n",
    "\n",
    "mae_score = mean_absolute_error(y_test, rf_reg_preds_test)\n",
    "mse_score = mean_squared_error(y_test, rf_reg_preds_test)\n",
    "r_squared = r2_score(y_test, rf_reg_preds_test)\n",
    "print(\"Test set R2:\",round(r_squared,3))\n",
    "print(\"Test set MAE:\",round(mae_score,3))\n",
    "print(\"Test set MSE:\",round(mse_score,3))\n",
    "\n",
    "mae_score = mean_absolute_error(y_val, rf_reg_preds_val)\n",
    "mse_score = mean_squared_error(y_val, rf_reg_preds_val)\n",
    "r_squared = r2_score(y_val, rf_reg_preds_val)\n",
    "print(\"Validation set R2:\",round(r_squared,3))\n",
    "print(\"Validation set MAE:\",round(mae_score,3))\n",
    "print(\"Validation set MSE:\",round(mse_score,3))\n"
   ]
  },
  {
   "cell_type": "markdown",
   "metadata": {},
   "source": [
    "Now that we have re-generated the RandomForest model we can start deciphering the model. To do this, we will analyse the feature importances using two methods:\n",
    "1. The default RandomForest feature_importance: this is a built-in attribute in the RandomForest algorithm. While it is useful and computationally efficient, it is prone to bias, as per our investigations (https://explained.ai/rf-importance/). \n",
    "2. Permutation importance: to address the bias issue, and to compare across multiple models, we elected to also analyze the permutation importance of our features. This method is model-agnostic, so it allows for a good comparison with XGB model."
   ]
  },
  {
   "cell_type": "markdown",
   "metadata": {},
   "source": [
    "### Default RandomForest feature_importance analysis\n",
    "\n",
    "We start by generating the default feature importance report from our RandomForest model and sorting by most important feature."
   ]
  },
  {
   "cell_type": "code",
   "execution_count": 5,
   "metadata": {},
   "outputs": [
    {
     "data": {
      "text/plain": [
       "<matplotlib.axes._subplots.AxesSubplot at 0x1dd95086400>"
      ]
     },
     "execution_count": 5,
     "metadata": {},
     "output_type": "execute_result"
    },
    {
     "data": {
      "image/png": "[encoded data removed]",
      "text/plain": [
       "<matplotlib.figure.Figure at 0x1dd8d4dc550>"
      ]
     },
     "metadata": {
      "needs_background": "light"
     },
     "output_type": "display_data"
    }
   ],
   "source": [
    "#Obtain feature importances from the model result and join back to features:\n",
    "importances = pd.DataFrame({'feature':X_train.columns,'importance':np.round(rf_reg.feature_importances_,3)})\n",
    "importances = importances.sort_values('importance',ascending=True).set_index('feature')\n",
    "importances.plot.barh(figsize=(8,8),legend=False, title=\"Random Forest Feature Importance\")\n",
    "#Reasonable results, random column is at the lower end of the scale"
   ]
  },
  {
   "cell_type": "markdown",
   "metadata": {},
   "source": [
    "The top 5 most important features are reported to be `Additive_1_Ratio`, `Additive_3_Ratio`, `Additive_6_Ratio`, `Main_Mass_Flow`, and `T_Zone_5`. Intuitively, these make sense: the additive ratios capture the chemistry of the process, the mass flow captures the mass balance, and the temperature variable captures the energy balance. We are reasonably happy with these results, as the model appears to represent the fundamentals of the process. As we expected, the `Random` variable is at the bottom end of the scale, and based on `Additive_4_Ratio`, `Additive_5_Ratio`, and `Blending` variables below it, it appears they do not significantly contribute to the `Quality` variable in our process.\n",
    "\n",
    "It's also important to note that three of the top five most important features are the additive ratios. Based on this result the RandomForest model is emphasizing the importance of chemistry in this process, over perhaps energy or material balance components.\n",
    "\n",
    "It's important to highlight the bias issue with the default feature importance methodology above. As per the cited article, it tends to inflate the importance of continuous variables (in this case Main_Mass_Flow). To address this, and for better comparison to the XGB model, we analyze the permutation importance next."
   ]
  },
  {
   "cell_type": "markdown",
   "metadata": {},
   "source": [
    "### Permutation importance analysis\n",
    "\n",
    "We begin by defining a function that will generate the permutation importance values for each feature, and apply it to our model."
   ]
  },
  {
   "cell_type": "code",
   "execution_count": 6,
   "metadata": {},
   "outputs": [],
   "source": [
    "def JBAFPI(rf, x_data, y_data, metric):\n",
    "    \"\"\"This function performs the permutation importance approach for model interpretation.\n",
    "    The metric is the scoring function with which feature importances are calculated.\"\"\"\n",
    "    baseline = metric(rf,x_data,y_data)\n",
    "    Importance = []\n",
    "    feature = []\n",
    "    for col in x_data.columns:\n",
    "        save = x_data[col].copy()\n",
    "        x_data[col] = np.random.permutation(x_data[col])\n",
    "        m = metric(rf,x_data,y_data)\n",
    "        x_data[col] = save\n",
    "        Importance.append((m-baseline))\n",
    "        feature.append(col)\n",
    "    return pd.DataFrame({'Importance':Importance,'Feature':feature}).set_index(\"Feature\")"
   ]
  },
  {
   "cell_type": "code",
   "execution_count": 9,
   "metadata": {},
   "outputs": [
    {
     "data": {
      "text/plain": [
       "<matplotlib.axes._subplots.AxesSubplot at 0x1dd954790f0>"
      ]
     },
     "execution_count": 9,
     "metadata": {},
     "output_type": "execute_result"
    },
    {
     "data": {
      "image/png": "[encoded data removed]",
      "text/plain": [
       "<matplotlib.figure.Figure at 0x1dd95529550>"
      ]
     },
     "metadata": {
      "needs_background": "light"
     },
     "output_type": "display_data"
    }
   ],
   "source": [
    "np.random.seed(42) \n",
    "perm_imp_JBAFPI = JBAFPI(rf_reg, X_val, y_val, mae)\n",
    "# display(perm_imp_JBAFPI)\n",
    "perm_imp_JBAFPI = perm_imp_JBAFPI.sort_values('Importance',ascending=True)\n",
    "perm_imp_JBAFPI.plot.barh(figsize=(8,8),legend=False, title=\"Random Forest Permutation Importance - MAE scoring\")"
   ]
  },
  {
   "cell_type": "markdown",
   "metadata": {},
   "source": [
    "Based on permutation importance, the top five most important features are `T_Zone_2`, `T_Zone_5`, `T_Zone_6`, `Additive_3_Ratio`, and `Flow_Gas_Ratio`. These variables still capture the process fundamentals of energy and material balance, as well as the chemistry. However it emphasizes the energy balance as the most important contributor to the `Quality` variable, and highlights that perhaps the RandomForest feature importance was being biased by the continuous nature of `Main_Mass_Flow`. \n",
    "\n",
    "In terms of the least important features, not much has changed. While the `Random` variable is now lower in importance, there's still the same variables at the bottom of the list. "
   ]
  },
  {
   "cell_type": "markdown",
   "metadata": {},
   "source": [
    "### Comparison of XGB and RandomForest interpretation results\n",
    "\n",
    "At this point, we decided to compare the permutation importances of XGB and RandomForest models to gain insight on our process and determine which variables have the most impact on `Quality` variable.\n",
    "\n",
    "It is immediately evident based on the top five important variables identified in each model that `T_Zone_2` and `T_Zone_6` have significant impact on `Quality`; `T_Zone_5` was ranked sixth by the XGB model so it also is likely a contributor to the outcome of the process. This also stresses the importance of energy balance in the process. \n",
    "\n",
    "With regards to the material balance , the models can't seem to agree which of `Main_Mass_Flow` and `Flow_Gas_Ratio` are important. This is likely a gap in our design, as we only provided two variables relating to material balance.\n",
    "\n",
    "In terms of the chemistry aspects of the process, the models start to diverge and tell conflicting stories. The additive ratio ranks do not agree, and the worse example of this is `Additive_3_ratio` which is ranked in the top 5 in RandomForest, but the lowest in the XGB model. At this point one would rely on the domain knowledge to determine if one model is making a critical error over the other. For example, is the additive just inert gas? In that case, we can confidently say the RandomForest model is erroneous as we do not expect any impact to `Quality` from inert components. Without intimate knowledge of the process, we cannot definitively determine why the models are diverging here. \n",
    "\n"
   ]
  }
 ],
 "metadata": {
  "kernelspec": {
   "display_name": "Python 3",
   "language": "python",
   "name": "python3"
  },
  "language_info": {
   "codemirror_mode": {
    "name": "ipython",
    "version": 3
   },
   "file_extension": ".py",
   "mimetype": "text/x-python",
   "name": "python",
   "nbconvert_exporter": "python",
   "pygments_lexer": "ipython3",
   "version": "3.6.4"
  },
  "toc": {
   "base_numbering": 1,
   "nav_menu": {},
   "number_sections": true,
   "sideBar": true,
   "skip_h1_title": false,
   "title_cell": "Table of Contents",
   "title_sidebar": "Contents",
   "toc_cell": false,
   "toc_position": {},
   "toc_section_display": true,
   "toc_window_display": false
  },
  "varInspector": {
   "cols": {
    "lenName": 16,
    "lenType": 16,
    "lenVar": 40
   },
   "kernels_config": {
    "python": {
     "delete_cmd_postfix": "",
     "delete_cmd_prefix": "del ",
     "library": "var_list.py",
     "varRefreshCmd": "print(var_dic_list())"
    },
    "r": {
     "delete_cmd_postfix": ") ",
     "delete_cmd_prefix": "rm(",
     "library": "var_list.r",
     "varRefreshCmd": "cat(var_dic_list()) "
    }
   },
   "types_to_exclude": [
    "module",
    "function",
    "builtin_function_or_method",
    "instance",
    "_Feature"
   ],
   "window_display": false
  }
 },
 "nbformat": 4,
 "nbformat_minor": 2
}
