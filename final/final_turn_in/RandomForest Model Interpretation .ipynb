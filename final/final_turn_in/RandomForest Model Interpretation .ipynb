{
 "cells": [
  {
   "cell_type": "code",
   "execution_count": 8,
   "metadata": {},
   "outputs": [],
   "source": [
    "import numpy as np\n",
    "import matplotlib.pyplot as plt\n",
    "import pandas as pd\n",
    "import os\n",
    "import seaborn as sns\n",
    "%matplotlib inline\n",
    "import math\n",
    "from sklearn.model_selection import train_test_split\n",
    "from sklearn.metrics import mean_absolute_error, mean_squared_error, r2_score\n",
    "from sklearn.ensemble import RandomForestRegressor\n",
    "\n",
    "# annoying warnings\n",
    "import warnings\n",
    "warnings.filterwarnings('ignore')\n",
    "\n",
    "np.random.seed(42)"
   ]
  },
  {
   "cell_type": "code",
   "execution_count": 9,
   "metadata": {},
   "outputs": [],
   "source": [
    "def display_all(df):\n",
    "    with pd.option_context(\"display.max_rows\", 100, \"display.max_columns\", 100): \n",
    "        display(df)\n",
    "\n",
    "def mae(rf, X_val, y_val):\n",
    "    return mean_absolute_error(y_val, rf.predict(X_val))\n",
    "\n",
    "def r2(rf, X_val, y_val):\n",
    "    return r2_score(y_val, rf.predict(X_val))\n",
    "\n",
    "def mse(rf, X_val, y_val):\n",
    "    return mean_squared_error(y_val, rf.predict(X_val))\n",
    "        \n",
    "def oversample_extremes(data, low_val=42, low_weight=2, high_val=48, high_weight=2):\n",
    "    '''\n",
    "    A function that will create duplicate rows of specified rows in order to weight certain rows in machine learning training\n",
    "    \n",
    "    INPUTS:\n",
    "    data: a pandas dataframe\n",
    "    low_val: value of 'Quality' below which we will duplicate rows\n",
    "    low_weight: integer of effective weight desired for low values\n",
    "    high_val: value of 'Quality' above which we will duplicate rows\n",
    "    high_weight: integer for effective weight desired for high values\n",
    "    \n",
    "    RETURNS:\n",
    "    newdata: a pandas dataframe with duplicated rows according to the arguments passed\n",
    "    \n",
    "    NOTES:\n",
    "    \n",
    "    'low_weight' and 'high_weight' both need integer values and correspond to the effective weight of the sample compared\n",
    "    to the rest of the data in the dataframe. For an example, a weight of 2 would mean creating 1 duplicate (so the\n",
    "    row is now in the data twice), and a weight of 1 would return the same dataset (no additional duplicates created)\n",
    "    \n",
    "    Default cutoff values correspond to roughly anything outside the IQR\n",
    "    '''\n",
    "    # identify rows of interest\n",
    "    low_df = data.loc[data['Quality'] < low_val]\n",
    "    high_df = data.loc[data['Quality'] > high_val]\n",
    "    \n",
    "    newdata = data.copy()\n",
    "    \n",
    "    # loop to add on all the rows\n",
    "    \n",
    "    for i in range(low_weight-1): #pythonic indexing...\n",
    "        newdata = newdata.append(low_df, ignore_index = True)\n",
    "    for i in range(high_weight-1):\n",
    "        newdata = newdata.append(high_df, ignore_index = True)\n",
    "    \n",
    "    return(newdata)"
   ]
  },
  {
   "cell_type": "markdown",
   "metadata": {},
   "source": [
    "# RandomForest Model interpretation\n",
    "\n",
    "Based on summary of models, we selected `no_tempinc.csv_w3` since it had the best r-squared and error metrics for both RandomForest and XGB models. This input did not use the created temperature increase variables, but did incorporate the sampling weights.\n",
    "\n",
    "We will begin by generating the RandomForest model using our selected input. In the process we also incorporated a column of random numbers, with the intent of flagging any features that fall below the importance of a random numbers column."
   ]
  },
  {
   "cell_type": "code",
   "execution_count": 10,
   "metadata": {},
   "outputs": [
    {
     "name": "stdout",
     "output_type": "stream",
     "text": [
      "Test set R2: 0.346\n",
      "Validation set R2: 0.548\n"
     ]
    }
   ],
   "source": [
    "#Set the random seed to match original model creations:\n",
    "np.random.seed(42)\n",
    "\n",
    "#Read in the best input:\n",
    "df = pd.read_csv('p_data/no_tempinc.csv')\n",
    "df.drop(['Unnamed: 0', 'CampaignID'], axis = 1, inplace = True)\n",
    "\n",
    "train, val, test = np.split(df.sample(frac=1), [int(.6*len(df)), int(.8*len(df))])\n",
    "\n",
    "#Incorporate sampling weighing of 3 for the training set:\n",
    "train = oversample_extremes(train, low_weight=3, high_weight = 3)\n",
    "\n",
    "y_train = train['Quality']\n",
    "train.drop(['Quality'], axis = 1, inplace = True)\n",
    "X_train = train\n",
    "X_train['Random'] = np.random.random(size=len(X_train))\n",
    "\n",
    "y_val = val['Quality']\n",
    "val.drop(['Quality'], axis = 1, inplace = True)\n",
    "X_val = val\n",
    "X_val['Random'] = np.random.random(size=len(X_val))\n",
    "\n",
    "y_test = test['Quality']\n",
    "test.drop(['Quality'], axis = 1, inplace = True)\n",
    "X_test = test\n",
    "X_test['Random'] = np.random.random(size=len(X_test))\n",
    "\n",
    "rf_reg = RandomForestRegressor(n_jobs=5, n_estimators= 120, max_depth= 10,\n",
    "                min_samples_split = 9,min_samples_leaf = 4,\n",
    "                min_weight_fraction_leaf= 0.0)\n",
    "\n",
    "rf_fit = rf_reg.fit(X_train, y_train)\n",
    "rf_reg_preds_val = rf_fit.predict(X_val)\n",
    "rf_reg_preds_test = rf_fit.predict(X_test)\n",
    "\n",
    "mae = mean_absolute_error(y_test, rf_reg_preds_test)\n",
    "mse = mean_squared_error(y_test, rf_reg_preds_test)\n",
    "r_squared = r2_score(y_test, rf_reg_preds_test)\n",
    "print(\"Test set R2:\",round(r_squared,3))\n",
    "\n",
    "mae = mean_absolute_error(y_val, rf_reg_preds_val)\n",
    "mse = mean_squared_error(y_val, rf_reg_preds_val)\n",
    "r_squared = r2_score(y_val, rf_reg_preds_val)\n",
    "print(\"Validation set R2:\",round(r_squared,3))\n",
    "\n"
   ]
  },
  {
   "cell_type": "markdown",
   "metadata": {},
   "source": [
    "### Default RandomForest feature_importance analysis"
   ]
  },
  {
   "cell_type": "code",
   "execution_count": 11,
   "metadata": {},
   "outputs": [
    {
     "data": {
      "text/plain": [
       "<matplotlib.axes._subplots.AxesSubplot at 0x206b2ff7c88>"
      ]
     },
     "execution_count": 11,
     "metadata": {},
     "output_type": "execute_result"
    },
    {
     "data": {
      "image/png": "[encoded data removed]",
      "text/plain": [
       "<matplotlib.figure.Figure at 0x206b2ab9c50>"
      ]
     },
     "metadata": {},
     "output_type": "display_data"
    }
   ],
   "source": [
    "#Obtain feature importances from the model result and join back to features:\n",
    "importances = pd.DataFrame({'feature':X_train.columns,'importance':np.round(rf_reg.feature_importances_,3)})\n",
    "importances = importances.sort_values('importance',ascending=True).set_index('feature')\n",
    "importances.plot.barh(figsize=(8,8),legend=False, title=\"Random Forest Feature Importance\")\n",
    "#Reasonable results, random column is at the lower end of the scale"
   ]
  },
  {
   "cell_type": "markdown",
   "metadata": {},
   "source": [
    "### Permutation importance analysis"
   ]
  },
  {
   "cell_type": "code",
   "execution_count": 12,
   "metadata": {},
   "outputs": [],
   "source": [
    "def JBAFPI(rf, x_data, y_data, metric):\n",
    "    \"\"\"This function performs the permutation importance approach for model interpretation.\n",
    "    The metric is the scoring function with which feature importances are calculated.\"\"\"\n",
    "    baseline = metric(rf,x_data,y_data)\n",
    "    Importance = []\n",
    "    feature = []\n",
    "    for col in x_data.columns:\n",
    "        save = x_data[col].copy()\n",
    "        x_data[col] = np.random.permutation(x_data[col])\n",
    "        m = metric(rf,x_data,y_data)\n",
    "        x_data[col] = save\n",
    "        Importance.append((m-baseline))\n",
    "        feature.append(col)\n",
    "    return pd.DataFrame({'Importance':Importance,'Feature':feature}).set_index(\"Feature\")"
   ]
  },
  {
   "cell_type": "code",
   "execution_count": 13,
   "metadata": {},
   "outputs": [
    {
     "ename": "TypeError",
     "evalue": "'numpy.float64' object is not callable",
     "output_type": "error",
     "traceback": [
      "\u001b[1;31m---------------------------------------------------------------------------\u001b[0m",
      "\u001b[1;31mTypeError\u001b[0m                                 Traceback (most recent call last)",
      "\u001b[1;32m<ipython-input-13-63a745f2a1ba>\u001b[0m in \u001b[0;36m<module>\u001b[1;34m()\u001b[0m\n\u001b[0;32m      1\u001b[0m \u001b[0mnp\u001b[0m\u001b[1;33m.\u001b[0m\u001b[0mrandom\u001b[0m\u001b[1;33m.\u001b[0m\u001b[0mseed\u001b[0m\u001b[1;33m(\u001b[0m\u001b[1;36m42\u001b[0m\u001b[1;33m)\u001b[0m\u001b[1;33m\u001b[0m\u001b[0m\n\u001b[1;32m----> 2\u001b[1;33m \u001b[0mperm_imp_JBAFPI\u001b[0m \u001b[1;33m=\u001b[0m \u001b[0mJBAFPI\u001b[0m\u001b[1;33m(\u001b[0m\u001b[0mrf_reg\u001b[0m\u001b[1;33m,\u001b[0m \u001b[0mX_val\u001b[0m\u001b[1;33m,\u001b[0m \u001b[0my_val\u001b[0m\u001b[1;33m,\u001b[0m \u001b[0mmae\u001b[0m\u001b[1;33m)\u001b[0m\u001b[1;33m\u001b[0m\u001b[0m\n\u001b[0m\u001b[0;32m      3\u001b[0m \u001b[1;31m# display(perm_imp_JBAFPI)\u001b[0m\u001b[1;33m\u001b[0m\u001b[1;33m\u001b[0m\u001b[0m\n\u001b[0;32m      4\u001b[0m \u001b[0mperm_imp_JBAFPI\u001b[0m \u001b[1;33m=\u001b[0m \u001b[0mperm_imp_JBAFPI\u001b[0m\u001b[1;33m.\u001b[0m\u001b[0msort_values\u001b[0m\u001b[1;33m(\u001b[0m\u001b[1;34m'Importance'\u001b[0m\u001b[1;33m,\u001b[0m\u001b[0mascending\u001b[0m\u001b[1;33m=\u001b[0m\u001b[1;32mTrue\u001b[0m\u001b[1;33m)\u001b[0m\u001b[1;33m\u001b[0m\u001b[0m\n\u001b[0;32m      5\u001b[0m \u001b[0mperm_imp_JBAFPI\u001b[0m\u001b[1;33m.\u001b[0m\u001b[0mplot\u001b[0m\u001b[1;33m.\u001b[0m\u001b[0mbarh\u001b[0m\u001b[1;33m(\u001b[0m\u001b[0mfigsize\u001b[0m\u001b[1;33m=\u001b[0m\u001b[1;33m(\u001b[0m\u001b[1;36m8\u001b[0m\u001b[1;33m,\u001b[0m\u001b[1;36m8\u001b[0m\u001b[1;33m)\u001b[0m\u001b[1;33m,\u001b[0m\u001b[0mlegend\u001b[0m\u001b[1;33m=\u001b[0m\u001b[1;32mFalse\u001b[0m\u001b[1;33m,\u001b[0m \u001b[0mtitle\u001b[0m\u001b[1;33m=\u001b[0m\u001b[1;34m\"Random Forest Permutation Importance - MAE scoring\"\u001b[0m\u001b[1;33m)\u001b[0m\u001b[1;33m\u001b[0m\u001b[0m\n",
      "\u001b[1;32m<ipython-input-12-4784bc9f4058>\u001b[0m in \u001b[0;36mJBAFPI\u001b[1;34m(rf, x_data, y_data, metric)\u001b[0m\n\u001b[0;32m      2\u001b[0m     \"\"\"This function performs the permutation importance approach for model interpretation.\n\u001b[0;32m      3\u001b[0m     The metric is the scoring function with which feature importances are calculated.\"\"\"\n\u001b[1;32m----> 4\u001b[1;33m     \u001b[0mbaseline\u001b[0m \u001b[1;33m=\u001b[0m \u001b[0mmetric\u001b[0m\u001b[1;33m(\u001b[0m\u001b[0mrf\u001b[0m\u001b[1;33m,\u001b[0m\u001b[0mx_data\u001b[0m\u001b[1;33m,\u001b[0m\u001b[0my_data\u001b[0m\u001b[1;33m)\u001b[0m\u001b[1;33m\u001b[0m\u001b[0m\n\u001b[0m\u001b[0;32m      5\u001b[0m     \u001b[0mImportance\u001b[0m \u001b[1;33m=\u001b[0m \u001b[1;33m[\u001b[0m\u001b[1;33m]\u001b[0m\u001b[1;33m\u001b[0m\u001b[0m\n\u001b[0;32m      6\u001b[0m     \u001b[0mfeature\u001b[0m \u001b[1;33m=\u001b[0m \u001b[1;33m[\u001b[0m\u001b[1;33m]\u001b[0m\u001b[1;33m\u001b[0m\u001b[0m\n",
      "\u001b[1;31mTypeError\u001b[0m: 'numpy.float64' object is not callable"
     ]
    }
   ],
   "source": [
    "np.random.seed(42) \n",
    "perm_imp_JBAFPI = JBAFPI(rf_reg, X_val, y_val, mae)\n",
    "# display(perm_imp_JBAFPI)\n",
    "perm_imp_JBAFPI = perm_imp_JBAFPI.sort_values('Importance',ascending=True)\n",
    "perm_imp_JBAFPI.plot.barh(figsize=(8,8),legend=False, title=\"Random Forest Permutation Importance - MAE scoring\")"
   ]
  },
  {
   "cell_type": "markdown",
   "metadata": {},
   "source": [
    "## Tree stability\n",
    "\n",
    "How robust are our results? How confident is our RandomForest model? Analyze the variance on the estimator results for a low, middle, and high quality data point to understand our model's stability "
   ]
  },
  {
   "cell_type": "code",
   "execution_count": null,
   "metadata": {},
   "outputs": [],
   "source": [
    "\n",
    "print(rf_reg_preds_test)"
   ]
  }
 ],
 "metadata": {
  "kernelspec": {
   "display_name": "Python 3",
   "language": "python",
   "name": "python3"
  },
  "language_info": {
   "codemirror_mode": {
    "name": "ipython",
    "version": 3
   },
   "file_extension": ".py",
   "mimetype": "text/x-python",
   "name": "python",
   "nbconvert_exporter": "python",
   "pygments_lexer": "ipython3",
   "version": "3.6.4"
  },
  "toc": {
   "base_numbering": 1,
   "nav_menu": {},
   "number_sections": true,
   "sideBar": true,
   "skip_h1_title": false,
   "title_cell": "Table of Contents",
   "title_sidebar": "Contents",
   "toc_cell": false,
   "toc_position": {},
   "toc_section_display": true,
   "toc_window_display": false
  },
  "varInspector": {
   "cols": {
    "lenName": 16,
    "lenType": 16,
    "lenVar": 40
   },
   "kernels_config": {
    "python": {
     "delete_cmd_postfix": "",
     "delete_cmd_prefix": "del ",
     "library": "var_list.py",
     "varRefreshCmd": "print(var_dic_list())"
    },
    "r": {
     "delete_cmd_postfix": ") ",
     "delete_cmd_prefix": "rm(",
     "library": "var_list.r",
     "varRefreshCmd": "cat(var_dic_list()) "
    }
   },
   "types_to_exclude": [
    "module",
    "function",
    "builtin_function_or_method",
    "instance",
    "_Feature"
   ],
   "window_display": false
  }
 },
 "nbformat": 4,
 "nbformat_minor": 2
}
