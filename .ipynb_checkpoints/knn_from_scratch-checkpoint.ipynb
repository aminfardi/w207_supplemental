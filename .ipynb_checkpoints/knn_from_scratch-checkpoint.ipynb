{
 "cells": [
  {
   "cell_type": "markdown",
   "metadata": {},
   "source": [
    "# Implementation of knn algorithm from scratch\n",
    "\n",
    "\n",
    "Goal here is to recreate the knn algorithm for both regression and classification to gain better understanding of how it works."
   ]
  },
  {
   "cell_type": "code",
   "execution_count": 1,
   "metadata": {
    "collapsed": true
   },
   "outputs": [],
   "source": [
    "# imports\n",
    "%matplotlib inline\n",
    "\n",
    "# Import a bunch of libraries.\n",
    "import numpy as np\n",
    "import matplotlib.pyplot as plt\n",
    "from matplotlib.colors import ListedColormap\n",
    "from sklearn.datasets import load_iris"
   ]
  },
  {
   "cell_type": "code",
   "execution_count": null,
   "metadata": {
    "collapsed": true
   },
   "outputs": [],
   "source": [
    "class knn_classifier(X, y, metric = \"euclidian\", k = 5):\n",
    "    '''\n",
    "    class for our classifier objects\n",
    "    '''\n",
    "    def __init__(self):\n",
    "        self.X , self.y, self.metric, self.k = X, y, metric, k\n",
    "        \n",
    "    def define_scale(num_array):\n",
    "        # define standard scaling mean and stdev\n",
    "        mean_val = np.mean(num_array)\n",
    "        sd_val = np.std(num_array)\n",
    "        # scale_vals = lambda x: (x - mean_val)/sd_val\n",
    "        return(mean_val, sd_val)\n",
    "\n",
    "    def scale_values(num_array, mean, sd):\n",
    "        scale_vals = lambda x: (x - mean)/sd\n",
    "        return(scale_vals(num_array))\n",
    "    \n",
    "    \n",
    "    def fit(self.X, self.y, self.metric, self.k):\n",
    "        # scale data\n",
    "        self.scalers = [define_scale(x) for i in range(self.X.shape[1])]\n",
    "        self.scaledX = scale_values(*self.X, *self.scalers[0], self.scalers[1])\n",
    "        # TODO: factorization of non-numerics\n",
    "        # TODO: distance of non-numerics\n",
    "        \n",
    "\n",
    "        \n",
    "        # TODO: how to keep track of the scaling of values\n",
    "        \n",
    "        # scale the X vals\n",
    "        "
   ]
  },
  {
   "cell_type": "code",
   "execution_count": null,
   "metadata": {
    "collapsed": true
   },
   "outputs": [],
   "source": []
  },
  {
   "cell_type": "code",
   "execution_count": null,
   "metadata": {
    "collapsed": true
   },
   "outputs": [],
   "source": []
  },
  {
   "cell_type": "code",
   "execution_count": null,
   "metadata": {
    "collapsed": true
   },
   "outputs": [],
   "source": []
  },
  {
   "cell_type": "code",
   "execution_count": null,
   "metadata": {
    "collapsed": true
   },
   "outputs": [],
   "source": []
  },
  {
   "cell_type": "code",
   "execution_count": null,
   "metadata": {
    "collapsed": true
   },
   "outputs": [],
   "source": []
  },
  {
   "cell_type": "code",
   "execution_count": null,
   "metadata": {
    "collapsed": true
   },
   "outputs": [],
   "source": []
  },
  {
   "cell_type": "code",
   "execution_count": null,
   "metadata": {
    "collapsed": true
   },
   "outputs": [],
   "source": []
  },
  {
   "cell_type": "code",
   "execution_count": null,
   "metadata": {
    "collapsed": true
   },
   "outputs": [],
   "source": []
  },
  {
   "cell_type": "code",
   "execution_count": null,
   "metadata": {
    "collapsed": true
   },
   "outputs": [],
   "source": []
  },
  {
   "cell_type": "code",
   "execution_count": null,
   "metadata": {
    "collapsed": true
   },
   "outputs": [],
   "source": []
  }
 ],
 "metadata": {
  "kernelspec": {
   "display_name": "Python 3",
   "language": "python",
   "name": "python3"
  },
  "language_info": {
   "codemirror_mode": {
    "name": "ipython",
    "version": 3
   },
   "file_extension": ".py",
   "mimetype": "text/x-python",
   "name": "python",
   "nbconvert_exporter": "python",
   "pygments_lexer": "ipython3",
   "version": "3.6.3"
  }
 },
 "nbformat": 4,
 "nbformat_minor": 2
}
