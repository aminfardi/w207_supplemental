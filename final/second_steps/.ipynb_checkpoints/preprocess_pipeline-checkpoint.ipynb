{
 "cells": [
  {
   "cell_type": "code",
   "execution_count": 7,
   "metadata": {},
   "outputs": [
    {
     "data": {
      "text/plain": [
       "(2709, 23)"
      ]
     },
     "execution_count": 7,
     "metadata": {},
     "output_type": "execute_result"
    }
   ],
   "source": [
    "import time\n",
    "import numpy as np\n",
    "import matplotlib.pyplot as plt\n",
    "import pandas as pd\n",
    "import os\n",
    "import seaborn as sns\n",
    "%matplotlib inline\n",
    "\n",
    "# annoying warnings\n",
    "import warnings\n",
    "warnings.filterwarnings('ignore')\n",
    "\n",
    "data = pd.read_csv(\"../../../datasets/anonymized_SAP_data.csv\")\n",
    "data.shape"
   ]
  },
  {
   "cell_type": "code",
   "execution_count": 8,
   "metadata": {},
   "outputs": [
    {
     "data": {
      "text/plain": [
       "Index(['Unnamed: 0', 'Date.Time', 'Main_Mass_Flow', 'Additive_1_Ratio',\n",
       "       'Additive_2_Ratio', 'Additive_3_Ratio', 'Additive_4_Ratio',\n",
       "       'Additive_5_Ratio', 'Additive_6_Ratio', 'Flow_Gas_Ratio', 'Pressure',\n",
       "       'T_Zone_1', 'T_Zone_2', 'T_Zone_3', 'T_Zone_4', 'T_Zone_5', 'T_Zone_6',\n",
       "       'T_Zone_7', 'T_Zone_8', 'T_Zone_9', 'T_Zone_10', 'Blending', 'Quality'],\n",
       "      dtype='object')"
      ]
     },
     "execution_count": 8,
     "metadata": {},
     "output_type": "execute_result"
    }
   ],
   "source": [
    "data.columns"
   ]
  },
  {
   "cell_type": "code",
   "execution_count": 9,
   "metadata": {},
   "outputs": [
    {
     "data": {
      "text/plain": [
       "Index(['Main_Mass_Flow', 'Additive_1_Ratio', 'Additive_2_Ratio',\n",
       "       'Additive_3_Ratio', 'Additive_4_Ratio', 'Additive_5_Ratio',\n",
       "       'Additive_6_Ratio', 'Flow_Gas_Ratio', 'Pressure', 'T_Zone_1',\n",
       "       'T_Zone_2', 'T_Zone_3', 'T_Zone_4', 'T_Zone_5', 'T_Zone_6', 'T_Zone_7',\n",
       "       'T_Zone_8', 'T_Zone_9', 'T_Zone_10', 'Blending', 'Quality'],\n",
       "      dtype='object')"
      ]
     },
     "execution_count": 9,
     "metadata": {},
     "output_type": "execute_result"
    }
   ],
   "source": [
    "dates = data['Date.Time']\n",
    "data.drop(['Unnamed: 0', 'Date.Time'], axis = 1, inplace = True)\n",
    "data.columns"
   ]
  },
  {
   "cell_type": "code",
   "execution_count": 10,
   "metadata": {},
   "outputs": [],
   "source": [
    "# drop zero variance columns\n",
    "data.drop(['Pressure'], axis = 1, inplace = True)"
   ]
  },
  {
   "cell_type": "code",
   "execution_count": 11,
   "metadata": {
    "collapsed": true
   },
   "outputs": [],
   "source": [
    "#delete rows where Main_Mass_Flow =0\n",
    "rows_to_delete = np.where(data.Main_Mass_Flow == 0)[0]\n",
    "# also add 337, 2533\n",
    "rows_to_delete = np.sort(np.concatenate((rows_to_delete, np.array([337, 2533])), axis = 0))\n",
    "\n",
    "data.drop(rows_to_delete, axis = 0, inplace = True)\n",
    "# display_all(data.describe().T)"
   ]
  },
  {
   "cell_type": "code",
   "execution_count": 12,
   "metadata": {
    "collapsed": true
   },
   "outputs": [],
   "source": [
    "# replace T_Zone_1 zero vals with median\n",
    "new_zero_val_T = np.median(data.T_Zone_1.iloc[np.where(data.T_Zone_1 > 50)])\n",
    "data.T_Zone_1.iloc[np.where(data.T_Zone_1 <= 50)] = new_zero_val_T\n",
    "\n",
    "# replace Blending vals with median\n",
    "new_zero_val_B = np.median(data.Blending.iloc[np.where(data.Blending > 20)])\n",
    "data.Blending.iloc[np.where(data.Blending <= 20)] = new_zero_val_B\n",
    "\n",
    "# display_all(data.describe().T)"
   ]
  },
  {
   "cell_type": "code",
   "execution_count": 13,
   "metadata": {
    "collapsed": true
   },
   "outputs": [],
   "source": [
    "data = data[data.Main_Mass_Flow > 15000]"
   ]
  },
  {
   "cell_type": "code",
   "execution_count": 14,
   "metadata": {
    "collapsed": true
   },
   "outputs": [],
   "source": [
    "for i in range(1,10):\n",
    "    new_colname = \"T_Increase_\" + str(i)\n",
    "    colname_i = \"T_Zone_\" + str(i)\n",
    "    colname_inext = \"T_Zone_\" + str(i+1)\n",
    "    vals = (data[colname_i] <= data[colname_inext]).astype(int)\n",
    "    data[new_colname] = vals"
   ]
  },
  {
   "cell_type": "code",
   "execution_count": null,
   "metadata": {
    "collapsed": true
   },
   "outputs": [],
   "source": [
    "from sklearn.preprocessing import StandardScaler\n",
    "# scale all the non-binary features\n",
    "scaled_colnames = data.columns[0:18]\n",
    "scaled_features = data.copy()\n",
    "features = scaled_features[scaled_colnames]\n",
    "scaler = StandardScaler().fit(features.values)\n",
    "features = scaler.transform(features.values)\n",
    "scaled_features[scaled_colnames] = features"
   ]
  },
  {
   "cell_type": "code",
   "execution_count": 15,
   "metadata": {
    "collapsed": true
   },
   "outputs": [],
   "source": [
    "from sklearn.preprocessing import MinMaxScaler\n",
    "# scale all the non-binary features\n",
    "scaled_colnames = data.columns[0:18]\n",
    "scaled_features = data.copy()\n",
    "features = scaled_features[scaled_colnames]\n",
    "scaler = MinMaxScaler().fit(features.values)\n",
    "features = scaler.transform(features.values)\n",
    "scaled_features[scaled_colnames] = features"
   ]
  },
  {
   "cell_type": "code",
   "execution_count": null,
   "metadata": {
    "collapsed": true
   },
   "outputs": [],
   "source": []
  },
  {
   "cell_type": "code",
   "execution_count": null,
   "metadata": {
    "collapsed": true
   },
   "outputs": [],
   "source": []
  },
  {
   "cell_type": "code",
   "execution_count": null,
   "metadata": {
    "collapsed": true
   },
   "outputs": [],
   "source": []
  },
  {
   "cell_type": "code",
   "execution_count": null,
   "metadata": {
    "collapsed": true
   },
   "outputs": [],
   "source": []
  }
 ],
 "metadata": {
  "kernelspec": {
   "display_name": "Python 3",
   "language": "python",
   "name": "python3"
  },
  "language_info": {
   "codemirror_mode": {
    "name": "ipython",
    "version": 3
   },
   "file_extension": ".py",
   "mimetype": "text/x-python",
   "name": "python",
   "nbconvert_exporter": "python",
   "pygments_lexer": "ipython3",
   "version": "3.6.3"
  }
 },
 "nbformat": 4,
 "nbformat_minor": 2
}
