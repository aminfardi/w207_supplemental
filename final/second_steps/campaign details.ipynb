{
 "cells": [
  {
   "cell_type": "code",
   "execution_count": 5,
   "metadata": {},
   "outputs": [
    {
     "data": {
      "text/plain": [
       "(2709, 23)"
      ]
     },
     "execution_count": 5,
     "metadata": {},
     "output_type": "execute_result"
    }
   ],
   "source": [
    "import time\n",
    "import numpy as np\n",
    "import matplotlib.pyplot as plt\n",
    "import pandas as pd\n",
    "import os\n",
    "import seaborn as sns\n",
    "%matplotlib inline\n",
    "\n",
    "# annoying warnings\n",
    "import warnings\n",
    "warnings.filterwarnings('ignore')\n",
    "\n",
    "data = pd.read_csv(\"../anonymized_SAP_data.csv\")\n",
    "data.shape"
   ]
  },
  {
   "cell_type": "code",
   "execution_count": 6,
   "metadata": {},
   "outputs": [
    {
     "data": {
      "text/plain": [
       "Index(['Unnamed: 0', 'Date.Time', 'Main_Mass_Flow', 'Additive_1_Ratio',\n",
       "       'Additive_2_Ratio', 'Additive_3_Ratio', 'Additive_4_Ratio',\n",
       "       'Additive_5_Ratio', 'Additive_6_Ratio', 'Flow_Gas_Ratio', 'Pressure',\n",
       "       'T_Zone_1', 'T_Zone_2', 'T_Zone_3', 'T_Zone_4', 'T_Zone_5', 'T_Zone_6',\n",
       "       'T_Zone_7', 'T_Zone_8', 'T_Zone_9', 'T_Zone_10', 'Blending', 'Quality'],\n",
       "      dtype='object')"
      ]
     },
     "execution_count": 6,
     "metadata": {},
     "output_type": "execute_result"
    }
   ],
   "source": [
    "data.columns"
   ]
  },
  {
   "cell_type": "code",
   "execution_count": 56,
   "metadata": {
    "scrolled": false
   },
   "outputs": [],
   "source": [
    "#Add campaign duration and campaignID columns\n",
    "\n",
    "type(data['Date.Time'][1])\n",
    "#currently string, need to convert to date_time\n",
    "data['Date.Time'] = pd.to_datetime(data['Date.Time'])\n",
    "\n",
    "#Loop through and identify consecutive dates. Create a list of campaign IDs to then create a column from.\n",
    "campaign_num = 1\n",
    "campaign_id_list = [1]\n",
    "for index in range(1,len(data['Date.Time'])):\n",
    "    if (data['Date.Time'][index] - data['Date.Time'][index-1]).days < 1:\n",
    "        campaign_id_list.append(campaign_num)\n",
    "    else:\n",
    "        campaign_num += 1\n",
    "        campaign_id_list.append(campaign_num)\n",
    "\n",
    "#Create new column of campaign IDs:\n",
    "data['CampaignID'] = campaign_id_list\n",
    "\n",
    "#Loop through and calculate hours in campaign\n",
    "duration_list = [0]\n",
    "\n",
    "for index in range(1,len(data['Date.Time'])):\n",
    "    campaign_num = data['CampaignID'][index]\n",
    "    campaign_start = min(data['Date.Time'][data['CampaignID'] == campaign_num])\n",
    "    hrs_since_start = (data['Date.Time'][index] - campaign_start).delta*2.77778e-13\n",
    "    duration_list.append(hrs_since_start)\n",
    "\n",
    "#Create new column for campaign hours\n",
    "data['Campaign.Hrs'] = duration_list"
   ]
  }
 ],
 "metadata": {
  "kernelspec": {
   "display_name": "Python 3",
   "language": "python",
   "name": "python3"
  },
  "language_info": {
   "codemirror_mode": {
    "name": "ipython",
    "version": 3
   },
   "file_extension": ".py",
   "mimetype": "text/x-python",
   "name": "python",
   "nbconvert_exporter": "python",
   "pygments_lexer": "ipython3",
   "version": "3.6.4"
  }
 },
 "nbformat": 4,
 "nbformat_minor": 2
}
