{
 "cells": [
  {
   "cell_type": "code",
   "execution_count": 1,
   "metadata": {
    "collapsed": true
   },
   "outputs": [],
   "source": [
    "# imports\n",
    "import time\n",
    "import numpy as np\n",
    "import matplotlib.pyplot as plt\n",
    "import pandas as pd\n",
    "import os\n",
    "import json\n",
    "from sklearn.metrics import classification_report\n",
    "from sklearn.model_selection import GridSearchCV\n",
    "from sklearn.metrics import accuracy_score\n",
    "\n",
    "\n",
    "%matplotlib inline"
   ]
  },
  {
   "cell_type": "code",
   "execution_count": 5,
   "metadata": {},
   "outputs": [
    {
     "data": {
      "text/plain": [
       "[{'cuisine': 'greek',\n",
       "  'id': 10259,\n",
       "  'ingredients': ['romaine lettuce',\n",
       "   'black olives',\n",
       "   'grape tomatoes',\n",
       "   'garlic',\n",
       "   'pepper',\n",
       "   'purple onion',\n",
       "   'seasoning',\n",
       "   'garbanzo beans',\n",
       "   'feta cheese crumbles']},\n",
       " {'cuisine': 'southern_us',\n",
       "  'id': 25693,\n",
       "  'ingredients': ['plain flour',\n",
       "   'ground pepper',\n",
       "   'salt',\n",
       "   'tomatoes',\n",
       "   'ground black pepper',\n",
       "   'thyme',\n",
       "   'eggs',\n",
       "   'green tomatoes',\n",
       "   'yellow corn meal',\n",
       "   'milk',\n",
       "   'vegetable oil']}]"
      ]
     },
     "execution_count": 5,
     "metadata": {},
     "output_type": "execute_result"
    }
   ],
   "source": [
    "# read in the data\n",
    "with open('../../datasets/recipes/train.json') as f:\n",
    "    train_data = json.load(f)\n",
    "train_data[0:2]"
   ]
  },
  {
   "cell_type": "code",
   "execution_count": 6,
   "metadata": {},
   "outputs": [
    {
     "data": {
      "text/plain": [
       "[{'id': 18009,\n",
       "  'ingredients': ['baking powder',\n",
       "   'eggs',\n",
       "   'all-purpose flour',\n",
       "   'raisins',\n",
       "   'milk',\n",
       "   'white sugar']},\n",
       " {'id': 28583,\n",
       "  'ingredients': ['sugar',\n",
       "   'egg yolks',\n",
       "   'corn starch',\n",
       "   'cream of tartar',\n",
       "   'bananas',\n",
       "   'vanilla wafers',\n",
       "   'milk',\n",
       "   'vanilla extract',\n",
       "   'toasted pecans',\n",
       "   'egg whites',\n",
       "   'light rum']}]"
      ]
     },
     "execution_count": 6,
     "metadata": {},
     "output_type": "execute_result"
    }
   ],
   "source": [
    "with open('../../datasets/recipes/test.json') as f:\n",
    "    test_data = json.load(f)\n",
    "test_data[0:2]"
   ]
  },
  {
   "cell_type": "markdown",
   "metadata": {},
   "source": [
    "Okay so taking a quick look at our data, we have the following format:\n",
    "* Recipe Entry\n",
    "    * Train only: Cuisine (prediction value)\n",
    "    * ID\n",
    "    * Ingredients\n",
    "        * Ingredient 1\n",
    "        * ...\n",
    "        * Ingredient n\n",
    "        \n",
    "We're going to need to put these into a way that we can consume for machine learning. A few things to note:\n",
    "* The ingredients seem to be kind of specific instead of generic. We may need to do some feature engineering here to make broader classes of ingredients (rum vs light rum, almonds vs toasted almond, etc...).\n",
    "* There are different number of ingredients in each recipe. We will likely need to take a sparse-matrix feature matrix in order to play around with this."
   ]
  },
  {
   "cell_type": "code",
   "execution_count": 25,
   "metadata": {},
   "outputs": [
    {
     "data": {
      "text/plain": [
       "(array(['brazilian', 'british', 'cajun_creole', 'chinese', 'filipino',\n",
       "        'french', 'greek', 'indian', 'irish', 'italian', 'jamaican',\n",
       "        'japanese', 'korean', 'mexican', 'moroccan', 'russian',\n",
       "        'southern_us', 'spanish', 'thai', 'vietnamese'], dtype='<U12'),\n",
       " array([ 467,  804, 1546, 2673,  755, 2646, 1175, 3003,  667, 7838,  526,\n",
       "        1423,  830, 6438,  821,  489, 4320,  989, 1539,  825], dtype=int64))"
      ]
     },
     "execution_count": 25,
     "metadata": {},
     "output_type": "execute_result"
    }
   ],
   "source": [
    "# ids will not be important for the training, we don't have to worry about extracting these\n",
    "train_labels = np.array([train_data[x]['cuisine'] for x in range(len(train_data))])\n",
    "unique_ar = np.unique(train_labels, return_counts=True)\n",
    "unique_ar"
   ]
  },
  {
   "cell_type": "code",
   "execution_count": 29,
   "metadata": {},
   "outputs": [
    {
     "data": {
      "image/png": "[encoded data removed]",
      "text/plain": [
       "<Figure size 432x288 with 1 Axes>"
      ]
     },
     "metadata": {},
     "output_type": "display_data"
    }
   ],
   "source": [
    "# quick plot of how many of each cuisine are in this dataset\n",
    "x = np.arange(unique_ar[0].shape[0])\n",
    "plt.barh(x,unique_ar[1])\n",
    "plt.yticks(x, unique_ar[0])\n",
    "plt.show()"
   ]
  },
  {
   "cell_type": "markdown",
   "metadata": {},
   "source": [
    "OK so we have a lot of italian and mexican and southern recipes. We should make sure our validation set has a good amount of each class so we can see better where we're struggling. Before we get to that though, we ought to turn our features into something useable."
   ]
  },
  {
   "cell_type": "code",
   "execution_count": 36,
   "metadata": {},
   "outputs": [
    {
     "data": {
      "text/plain": [
       "(6714,)"
      ]
     },
     "execution_count": 36,
     "metadata": {},
     "output_type": "execute_result"
    }
   ],
   "source": [
    "# extract all features from training\n",
    "train_features = np.array([train_data[x]['ingredients'][i] for x in range(len(train_data)) \\\n",
    "                           for i in range(len(train_data[x]['ingredients']))])\n",
    "unique_features = np.unique(train_features, return_counts=True)\n",
    "unique_features[0].shape"
   ]
  },
  {
   "cell_type": "markdown",
   "metadata": {},
   "source": [
    "OK there's no way I'm looking at all 6714 different ingredients, but we should take a look at a few to see if we can better understand them"
   ]
  },
  {
   "cell_type": "code",
   "execution_count": 40,
   "metadata": {},
   "outputs": [
    {
     "data": {
      "text/plain": [
       "array(['squash blossoms', 'sliced kalamata olives', 'cooked vermicelli',\n",
       "       'umeboshi vinegar', 'cranberry juice cocktail', 'English muffins',\n",
       "       'turkey', 'vegetable juice', 'Bragg Liquid Aminos', 'horseradish',\n",
       "       'turkey thigh', 'cubed bread', 'Old El Paso Flour Tortillas',\n",
       "       'cheese tortellini', 'granita', 'hard cider', 'angel food cake',\n",
       "       'dates', 'nutmeg', 'jerk paste', 'low-fat cheddar', 'fructose',\n",
       "       'soda bread', 'white cheddar cheese', 'drippings',\n",
       "       'refrigerated buttermilk biscuits', 'Zatarains Creole Seasoning',\n",
       "       'pickled jalapenos', 'half & half',\n",
       "       'less sodium fat free chicken broth', 'mole sauce',\n",
       "       'pea eggplants', 'chambord', 'small new potatoes', 'tortillas',\n",
       "       'Old El Pasoâ„¢ chopped green chiles', 'grana padano',\n",
       "       'blood orange juice', 'quick-cooking barley', 'mustard oil',\n",
       "       'clover honey', 'togarashi', 'soy milk', 'tenderloin roast',\n",
       "       'mian', 'sandwich rolls', 'sour salt', 'bone-in ribeye steak',\n",
       "       'rubbed sage', 'corn'], dtype='<U74')"
      ]
     },
     "execution_count": 40,
     "metadata": {},
     "output_type": "execute_result"
    }
   ],
   "source": [
    "np.random.seed(50)\n",
    "return_items = np.random.randint(0, unique_features[0].shape[0], 50)\n",
    "unique_features[0][return_items]"
   ]
  },
  {
   "cell_type": "markdown",
   "metadata": {},
   "source": [
    "Turning these into something remotely generalizable looks to be like a difficult problem. Going to do a bit of internet research here...\n",
    "\n",
    "__Ideas__:\n",
    "\n",
    "https://www.kaggle.com/ccorbi/word2vec-with-ingredients\n",
    "\n",
    "https://www.kaggle.com/c/whats-cooking/discussion/23727\n",
    "\n",
    "https://www.kaggle.com/khyh00/deep-cooking\n",
    "\n"
   ]
  },
  {
   "cell_type": "code",
   "execution_count": null,
   "metadata": {
    "collapsed": true
   },
   "outputs": [],
   "source": []
  }
 ],
 "metadata": {
  "kernelspec": {
   "display_name": "Python 3",
   "language": "python",
   "name": "python3"
  },
  "language_info": {
   "codemirror_mode": {
    "name": "ipython",
    "version": 3
   },
   "file_extension": ".py",
   "mimetype": "text/x-python",
   "name": "python",
   "nbconvert_exporter": "python",
   "pygments_lexer": "ipython3",
   "version": "3.6.3"
  }
 },
 "nbformat": 4,
 "nbformat_minor": 2
}
