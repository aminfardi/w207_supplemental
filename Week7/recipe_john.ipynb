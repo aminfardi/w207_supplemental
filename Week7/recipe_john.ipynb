{
 "cells": [
  {
   "cell_type": "code",
   "execution_count": 1,
   "metadata": {
    "collapsed": true
   },
   "outputs": [],
   "source": [
    "# imports\n",
    "import time\n",
    "import numpy as np\n",
    "import matplotlib.pyplot as plt\n",
    "import pandas as pd\n",
    "import os\n",
    "import json\n",
    "from sklearn.metrics import classification_report\n",
    "from sklearn.model_selection import GridSearchCV\n",
    "from sklearn.metrics import accuracy_score\n",
    "import re\n",
    "\n",
    "\n",
    "%matplotlib inline"
   ]
  },
  {
   "cell_type": "code",
   "execution_count": 2,
   "metadata": {},
   "outputs": [
    {
     "data": {
      "text/plain": [
       "[{'cuisine': 'greek',\n",
       "  'id': 10259,\n",
       "  'ingredients': ['romaine lettuce',\n",
       "   'black olives',\n",
       "   'grape tomatoes',\n",
       "   'garlic',\n",
       "   'pepper',\n",
       "   'purple onion',\n",
       "   'seasoning',\n",
       "   'garbanzo beans',\n",
       "   'feta cheese crumbles']},\n",
       " {'cuisine': 'southern_us',\n",
       "  'id': 25693,\n",
       "  'ingredients': ['plain flour',\n",
       "   'ground pepper',\n",
       "   'salt',\n",
       "   'tomatoes',\n",
       "   'ground black pepper',\n",
       "   'thyme',\n",
       "   'eggs',\n",
       "   'green tomatoes',\n",
       "   'yellow corn meal',\n",
       "   'milk',\n",
       "   'vegetable oil']}]"
      ]
     },
     "execution_count": 2,
     "metadata": {},
     "output_type": "execute_result"
    }
   ],
   "source": [
    "# read in the data\n",
    "with open('../../datasets/recipes/train.json') as f:\n",
    "    train_data = json.load(f)\n",
    "train_data[0:2]"
   ]
  },
  {
   "cell_type": "code",
   "execution_count": 3,
   "metadata": {},
   "outputs": [
    {
     "data": {
      "text/plain": [
       "[{'id': 18009,\n",
       "  'ingredients': ['baking powder',\n",
       "   'eggs',\n",
       "   'all-purpose flour',\n",
       "   'raisins',\n",
       "   'milk',\n",
       "   'white sugar']},\n",
       " {'id': 28583,\n",
       "  'ingredients': ['sugar',\n",
       "   'egg yolks',\n",
       "   'corn starch',\n",
       "   'cream of tartar',\n",
       "   'bananas',\n",
       "   'vanilla wafers',\n",
       "   'milk',\n",
       "   'vanilla extract',\n",
       "   'toasted pecans',\n",
       "   'egg whites',\n",
       "   'light rum']}]"
      ]
     },
     "execution_count": 3,
     "metadata": {},
     "output_type": "execute_result"
    }
   ],
   "source": [
    "with open('../../datasets/recipes/test.json') as f:\n",
    "    test_data = json.load(f)\n",
    "test_data[0:2]"
   ]
  },
  {
   "cell_type": "markdown",
   "metadata": {},
   "source": [
    "Okay so taking a quick look at our data, we have the following format:\n",
    "* Recipe Entry\n",
    "    * Train only: Cuisine (prediction value)\n",
    "    * ID\n",
    "    * Ingredients\n",
    "        * Ingredient 1\n",
    "        * ...\n",
    "        * Ingredient n\n",
    "        \n",
    "We're going to need to put these into a way that we can consume for machine learning. A few things to note:\n",
    "* The ingredients seem to be kind of specific instead of generic. We may need to do some feature engineering here to make broader classes of ingredients (rum vs light rum, almonds vs toasted almond, etc...).\n",
    "* There are different number of ingredients in each recipe. We will likely need to take a sparse-matrix feature matrix in order to play around with this."
   ]
  },
  {
   "cell_type": "code",
   "execution_count": 4,
   "metadata": {},
   "outputs": [
    {
     "data": {
      "text/plain": [
       "(array(['brazilian', 'british', 'cajun_creole', 'chinese', 'filipino',\n",
       "        'french', 'greek', 'indian', 'irish', 'italian', 'jamaican',\n",
       "        'japanese', 'korean', 'mexican', 'moroccan', 'russian',\n",
       "        'southern_us', 'spanish', 'thai', 'vietnamese'], dtype='<U12'),\n",
       " array([ 467,  804, 1546, 2673,  755, 2646, 1175, 3003,  667, 7838,  526,\n",
       "        1423,  830, 6438,  821,  489, 4320,  989, 1539,  825], dtype=int64))"
      ]
     },
     "execution_count": 4,
     "metadata": {},
     "output_type": "execute_result"
    }
   ],
   "source": [
    "# ids will not be important for the training, we don't have to worry about extracting these\n",
    "train_labels = np.array([train_data[x]['cuisine'] for x in range(len(train_data))])\n",
    "unique_ar = np.unique(train_labels, return_counts=True)\n",
    "unique_ar"
   ]
  },
  {
   "cell_type": "code",
   "execution_count": 5,
   "metadata": {},
   "outputs": [
    {
     "data": {
      "image/png": "[encoded data removed]",
      "text/plain": [
       "<Figure size 432x288 with 1 Axes>"
      ]
     },
     "metadata": {},
     "output_type": "display_data"
    }
   ],
   "source": [
    "# quick plot of how many of each cuisine are in this dataset\n",
    "x = np.arange(unique_ar[0].shape[0])\n",
    "plt.barh(x,unique_ar[1])\n",
    "plt.yticks(x, unique_ar[0])\n",
    "plt.show()"
   ]
  },
  {
   "cell_type": "markdown",
   "metadata": {},
   "source": [
    "OK so we have a lot of italian and mexican and southern recipes. We should make sure our validation set has a good amount of each class so we can see better where we're struggling. Before we get to that though, we ought to turn our features into something useable."
   ]
  },
  {
   "cell_type": "code",
   "execution_count": 6,
   "metadata": {},
   "outputs": [
    {
     "data": {
      "text/plain": [
       "(6714,)"
      ]
     },
     "execution_count": 6,
     "metadata": {},
     "output_type": "execute_result"
    }
   ],
   "source": [
    "# extract all features from training\n",
    "train_features = np.array([train_data[x]['ingredients'][i] for x in range(len(train_data)) \\\n",
    "                           for i in range(len(train_data[x]['ingredients']))])\n",
    "unique_features = np.unique(train_features, return_counts=True)\n",
    "unique_features[0].shape"
   ]
  },
  {
   "cell_type": "markdown",
   "metadata": {},
   "source": [
    "OK there's no way I'm looking at all 6714 different ingredients, but we should take a look at a few to see if we can better understand them"
   ]
  },
  {
   "cell_type": "code",
   "execution_count": 7,
   "metadata": {},
   "outputs": [
    {
     "data": {
      "text/plain": [
       "array(['squash blossoms', 'sliced kalamata olives', 'cooked vermicelli',\n",
       "       'umeboshi vinegar', 'cranberry juice cocktail', 'English muffins',\n",
       "       'turkey', 'vegetable juice', 'Bragg Liquid Aminos', 'horseradish',\n",
       "       'turkey thigh', 'cubed bread', 'Old El Paso Flour Tortillas',\n",
       "       'cheese tortellini', 'granita', 'hard cider', 'angel food cake',\n",
       "       'dates', 'nutmeg', 'jerk paste', 'low-fat cheddar', 'fructose',\n",
       "       'soda bread', 'white cheddar cheese', 'drippings',\n",
       "       'refrigerated buttermilk biscuits', 'Zatarains Creole Seasoning',\n",
       "       'pickled jalapenos', 'half & half',\n",
       "       'less sodium fat free chicken broth', 'mole sauce',\n",
       "       'pea eggplants', 'chambord', 'small new potatoes', 'tortillas',\n",
       "       'Old El Pasoâ„¢ chopped green chiles', 'grana padano',\n",
       "       'blood orange juice', 'quick-cooking barley', 'mustard oil',\n",
       "       'clover honey', 'togarashi', 'soy milk', 'tenderloin roast',\n",
       "       'mian', 'sandwich rolls', 'sour salt', 'bone-in ribeye steak',\n",
       "       'rubbed sage', 'corn'], dtype='<U74')"
      ]
     },
     "execution_count": 7,
     "metadata": {},
     "output_type": "execute_result"
    }
   ],
   "source": [
    "np.random.seed(50)\n",
    "return_items = np.random.randint(0, unique_features[0].shape[0], 50)\n",
    "unique_features[0][return_items]"
   ]
  },
  {
   "cell_type": "markdown",
   "metadata": {},
   "source": [
    "Turning these into something remotely generalizable looks to be like a difficult problem. Going to do a bit of internet research here...\n",
    "\n",
    "__Ideas__:\n",
    "\n",
    "https://www.kaggle.com/ccorbi/word2vec-with-ingredients\n",
    "\n",
    "https://www.kaggle.com/c/whats-cooking/discussion/23727\n",
    "\n",
    "https://www.kaggle.com/khyh00/deep-cooking\n",
    "\n"
   ]
  },
  {
   "cell_type": "markdown",
   "metadata": {},
   "source": [
    "So the first thing we can do is a little bit of filtering... Let's take out some words from the training that will be re-used a lot in ingredients and not give us much value."
   ]
  },
  {
   "cell_type": "code",
   "execution_count": 8,
   "metadata": {},
   "outputs": [
    {
     "data": {
      "text/plain": [
       "(6516,)"
      ]
     },
     "execution_count": 8,
     "metadata": {},
     "output_type": "execute_result"
    }
   ],
   "source": [
    "all_recipes = list()\n",
    "for recipe in train_data:\n",
    "    clean_recipe = list()\n",
    "    \n",
    "    for ingredient in recipe['ingredients']:\n",
    "        # remove this description from the ingredients\n",
    "        # minimal preprocessing\n",
    "        ingredient =  re.sub(r'\\(.*oz.\\)|crushed|crumbles|ground|minced|powder|chopped|sliced|roasted|diced',\n",
    "                             '', \n",
    "                             ingredient)\n",
    "        clean_recipe.append(ingredient.strip())\n",
    "    all_recipes.append(clean_recipe)\n",
    "np.unique(np.array([all_recipes[i][j] for i in range(len(all_recipes)) for j in range(len(all_recipes[i]))])).shape"
   ]
  },
  {
   "cell_type": "markdown",
   "metadata": {},
   "source": [
    "Well, doing that process brings down our features by about 200, which is helpful but not really quite what I was hoping for. Maybe we can look at a few more of these ingredients and see if there's more that can be done."
   ]
  },
  {
   "cell_type": "code",
   "execution_count": 9,
   "metadata": {},
   "outputs": [
    {
     "data": {
      "text/plain": [
       "array(['gorgonzola', 'deep dish pie crust', 'sansho',\n",
       "       'low-fat vegetarian chili with beans', 'scallions',\n",
       "       'cola-flavored carbonated beverage', 'soy milk',\n",
       "       'granulated white sugar', 'creamed horseradish',\n",
       "       'canned chicken breast', 'coffee low-fat frozen yogurt',\n",
       "       'large snails', 'turkey legs', 'pound cake mix',\n",
       "       'Jagermeister Liqueur', 'brown rice flour', 'hazelnut liqueur',\n",
       "       'dried coconut flakes', 'prepared guacamole', 'cashew chop unsalt',\n",
       "       'pancit canton', 'marjoram leaves', 'irish bacon', 'bitter melon',\n",
       "       'quick yeast', 'bone in', 'sour mix', 'fresh brussels sprouts',\n",
       "       'savoiardi', 'pomelo', 'whole wheat french bread',\n",
       "       'self-rising cornmeal', 'frozen whip topping, thaw',\n",
       "       'pure acai puree', 'lean ground beef', 'apricots', 'ear of corn',\n",
       "       'cooked italian meatballs', 'sloe gin',\n",
       "       'granular no-calorie sucralose sweetener', 'cane sugar',\n",
       "       'boneless chicken thigh fillets', 'reduced-fat sour cream',\n",
       "       'tartlet shells', 'lavender honey', 'snow pea pods',\n",
       "       'salad greens', 'garlic powder', 'pita pockets',\n",
       "       'fat-free mayonnaise', 'red chard', 'chunky tomato salsa',\n",
       "       'low-fat pasta sauce', 'ground allspice', 'jamaica',\n",
       "       'aged Manchego cheese', 'liquid honey', 'pandan extract',\n",
       "       'diced tomatoes in juice', 'turkey meat',\n",
       "       'mandarin orange segments', 'barilla',\n",
       "       'powdered vanilla pudding mix', 'raisin bread', 'panko',\n",
       "       'italian salad dressing mix', 'coriander', 'grass-fed butter',\n",
       "       'drippings', 'vegetable broth', 'glazed pecans', 'treacle',\n",
       "       'spaghetti, cook and drain', 'smithfield ham', 'cranberry sauce',\n",
       "       'KnorrÂ® Fiesta Sidesâ„¢ - Mexican Rice', 'purple onion',\n",
       "       'guava paste', 'ciabatta', 'bawang goreng', 'granny smith apples',\n",
       "       'chopped cilantro', 'low-fat vanilla yogurt', 'turkey breast',\n",
       "       'fenugreek', 'chicken pan drippings', 'mini chocolate chips',\n",
       "       'boneless, skinless chicken breast', 'harissa paste',\n",
       "       'organic soy sauce', 'brown rice', 'cipollini',\n",
       "       'shredded reduced fat cheddar cheese', 'sirloin steak',\n",
       "       'whole wheat spaghetti', 'frozen sweetened raspberries',\n",
       "       'george dickel', 'chinese duck sauce', 'hot curry powder',\n",
       "       'flowering garlic chives', 'white creme de cacao',\n",
       "       'sweet bean paste', 'yellow curry paste', 'roasted chestnuts',\n",
       "       'malt powder', 'smoked sweet Spanish paprika', 'panela',\n",
       "       'turkey breast', 'stick butter', 'canola mayonnaise',\n",
       "       'boneless chuck roast', 'ginger paste', 'lemon juice',\n",
       "       'frozen whip topping, thaw', 'whipping heavy cream',\n",
       "       'shredded coleslaw mix', 'cremini mushrooms', 'raw cane sugar',\n",
       "       'extra virgin coconut oil', '2% reduced-fat milk', 'dashi',\n",
       "       'peach purÃ©e', 'paccheri', 'green soybeans',\n",
       "       'boneless beef rib eye steaks', 'balsamic vinegar',\n",
       "       'pitted black olives', 'cooking oil', 'parsnips', 'dried oregano',\n",
       "       'beef for stew', \"za'atar\", 'cactus', 'emerils original essence',\n",
       "       'minced meat', 'dip mix', 'apple slice', 'minced ginger',\n",
       "       'cinnamon graham crackers', 'liver', 'dipping chocolate',\n",
       "       'knorr chipotl minicub', 'coffee granules', 'hakusai',\n",
       "       'e-fu noodl', 'hot pepper sauce', 'savoy spinach', 'maple sugar',\n",
       "       'roast beef', 'ketchup'], dtype='<U74')"
      ]
     },
     "execution_count": 9,
     "metadata": {},
     "output_type": "execute_result"
    }
   ],
   "source": [
    "np.random.seed(125)\n",
    "return_items = np.random.randint(0, unique_features[0].shape[0], 150)\n",
    "unique_features[0][return_items]"
   ]
  },
  {
   "cell_type": "markdown",
   "metadata": {},
   "source": [
    "Yeah honestly I don't know what to do here. What I do know is that I need to think about getting these somehow into a mtrix-like form in order to put into any machine learning algorithm. Turns out that pandas has some nice ways to do this that I didn't know about."
   ]
  },
  {
   "cell_type": "code",
   "execution_count": 10,
   "metadata": {
    "collapsed": true
   },
   "outputs": [],
   "source": [
    "import nltk\n",
    "import re\n",
    "from nltk.stem import WordNetLemmatizer\n",
    "from sklearn.svm import LinearSVC\n",
    "from sklearn.metrics import classification_report\n",
    "import sklearn.metrics\n",
    "from sklearn.feature_extraction.text import TfidfVectorizer\n",
    "from sklearn.linear_model import LogisticRegression\n",
    "\n"
   ]
  },
  {
   "cell_type": "code",
   "execution_count": 11,
   "metadata": {},
   "outputs": [],
   "source": [
    "# nltk.download()\n",
    "# if you haven't downloaded, you'll need to"
   ]
  },
  {
   "cell_type": "code",
   "execution_count": 12,
   "metadata": {},
   "outputs": [
    {
     "name": "stdout",
     "output_type": "stream",
     "text": [
      "cat\n",
      "cactus\n",
      "goose\n",
      "rock\n",
      "python\n",
      "good\n",
      "best\n",
      "run\n",
      "run\n"
     ]
    }
   ],
   "source": [
    "lemmatizer = WordNetLemmatizer()\n",
    "\n",
    "print(lemmatizer.lemmatize(\"cats\"))\n",
    "print(lemmatizer.lemmatize(\"cacti\"))\n",
    "print(lemmatizer.lemmatize(\"geese\"))\n",
    "print(lemmatizer.lemmatize(\"rocks\"))\n",
    "print(lemmatizer.lemmatize(\"python\"))\n",
    "print(lemmatizer.lemmatize(\"better\", pos=\"a\"))\n",
    "print(lemmatizer.lemmatize(\"best\", pos=\"a\"))\n",
    "print(lemmatizer.lemmatize(\"run\"))\n",
    "print(lemmatizer.lemmatize(\"run\",'v'))"
   ]
  },
  {
   "cell_type": "markdown",
   "metadata": {},
   "source": [
    "I'm going to use code from another notebook that includes using natural language toolkit (nltk) for lemmatization. In short, lemmatization identifies the kind of \"root idea\" of a word according to what it is and what part of speech it is. So this will reduce some of the variation in our terms."
   ]
  },
  {
   "cell_type": "code",
   "execution_count": 13,
   "metadata": {
    "collapsed": true
   },
   "outputs": [],
   "source": [
    "# code from https://www.kaggle.com/dipayan/whatscooking-python\n",
    "# first line brings in all the data from json into pandas dataframe. in this case, the structure maps well\n",
    "# second line brings the ingredients into a new column called 'ingredients_clean_string' which\n",
    "#     has them all in a single string separated by spaces and a comma\n",
    "# third line lemmatizes the ingredients as they are brought into a new dataframe column\n",
    "\n",
    "traindf = pd.read_json(\"../../datasets/recipes/train.json\")\n",
    "traindf['ingredients_clean_string'] = [' , '.join(z).strip() for z in traindf['ingredients']]  \n",
    "traindf['ingredients_string'] = [' '.join([WordNetLemmatizer().lemmatize(re.sub('[^A-Za-z]', ' ', line)) for line in lists]).strip() for lists in traindf['ingredients']]       \n",
    "\n",
    "testdf = pd.read_json(\"../../datasets/recipes/test.json\") \n",
    "testdf['ingredients_clean_string'] = [' , '.join(z).strip() for z in testdf['ingredients']]\n",
    "testdf['ingredients_string'] = [' '.join([WordNetLemmatizer().lemmatize(re.sub('[^A-Za-z]', ' ', line)) for line in lists]).strip() for lists in testdf['ingredients']]       \n"
   ]
  },
  {
   "cell_type": "code",
   "execution_count": 14,
   "metadata": {},
   "outputs": [
    {
     "data": {
      "text/html": [
       "<div>\n",
       "<style>\n",
       "    .dataframe thead tr:only-child th {\n",
       "        text-align: right;\n",
       "    }\n",
       "\n",
       "    .dataframe thead th {\n",
       "        text-align: left;\n",
       "    }\n",
       "\n",
       "    .dataframe tbody tr th {\n",
       "        vertical-align: top;\n",
       "    }\n",
       "</style>\n",
       "<table border=\"1\" class=\"dataframe\">\n",
       "  <thead>\n",
       "    <tr style=\"text-align: right;\">\n",
       "      <th></th>\n",
       "      <th>cuisine</th>\n",
       "      <th>id</th>\n",
       "      <th>ingredients</th>\n",
       "      <th>ingredients_clean_string</th>\n",
       "      <th>ingredients_string</th>\n",
       "    </tr>\n",
       "  </thead>\n",
       "  <tbody>\n",
       "    <tr>\n",
       "      <th>0</th>\n",
       "      <td>greek</td>\n",
       "      <td>10259</td>\n",
       "      <td>[romaine lettuce, black olives, grape tomatoes...</td>\n",
       "      <td>romaine lettuce , black olives , grape tomatoe...</td>\n",
       "      <td>romaine lettuce black olives grape tomatoes ga...</td>\n",
       "    </tr>\n",
       "    <tr>\n",
       "      <th>1</th>\n",
       "      <td>southern_us</td>\n",
       "      <td>25693</td>\n",
       "      <td>[plain flour, ground pepper, salt, tomatoes, g...</td>\n",
       "      <td>plain flour , ground pepper , salt , tomatoes ...</td>\n",
       "      <td>plain flour ground pepper salt tomato ground b...</td>\n",
       "    </tr>\n",
       "    <tr>\n",
       "      <th>2</th>\n",
       "      <td>filipino</td>\n",
       "      <td>20130</td>\n",
       "      <td>[eggs, pepper, salt, mayonaise, cooking oil, g...</td>\n",
       "      <td>eggs , pepper , salt , mayonaise , cooking oil...</td>\n",
       "      <td>egg pepper salt mayonaise cooking oil green ch...</td>\n",
       "    </tr>\n",
       "    <tr>\n",
       "      <th>3</th>\n",
       "      <td>indian</td>\n",
       "      <td>22213</td>\n",
       "      <td>[water, vegetable oil, wheat, salt]</td>\n",
       "      <td>water , vegetable oil , wheat , salt</td>\n",
       "      <td>water vegetable oil wheat salt</td>\n",
       "    </tr>\n",
       "    <tr>\n",
       "      <th>4</th>\n",
       "      <td>indian</td>\n",
       "      <td>13162</td>\n",
       "      <td>[black pepper, shallots, cornflour, cayenne pe...</td>\n",
       "      <td>black pepper , shallots , cornflour , cayenne ...</td>\n",
       "      <td>black pepper shallot cornflour cayenne pepper ...</td>\n",
       "    </tr>\n",
       "  </tbody>\n",
       "</table>\n",
       "</div>"
      ],
      "text/plain": [
       "       cuisine     id                                        ingredients  \\\n",
       "0        greek  10259  [romaine lettuce, black olives, grape tomatoes...   \n",
       "1  southern_us  25693  [plain flour, ground pepper, salt, tomatoes, g...   \n",
       "2     filipino  20130  [eggs, pepper, salt, mayonaise, cooking oil, g...   \n",
       "3       indian  22213                [water, vegetable oil, wheat, salt]   \n",
       "4       indian  13162  [black pepper, shallots, cornflour, cayenne pe...   \n",
       "\n",
       "                            ingredients_clean_string  \\\n",
       "0  romaine lettuce , black olives , grape tomatoe...   \n",
       "1  plain flour , ground pepper , salt , tomatoes ...   \n",
       "2  eggs , pepper , salt , mayonaise , cooking oil...   \n",
       "3               water , vegetable oil , wheat , salt   \n",
       "4  black pepper , shallots , cornflour , cayenne ...   \n",
       "\n",
       "                                  ingredients_string  \n",
       "0  romaine lettuce black olives grape tomatoes ga...  \n",
       "1  plain flour ground pepper salt tomato ground b...  \n",
       "2  egg pepper salt mayonaise cooking oil green ch...  \n",
       "3                     water vegetable oil wheat salt  \n",
       "4  black pepper shallot cornflour cayenne pepper ...  "
      ]
     },
     "execution_count": 14,
     "metadata": {},
     "output_type": "execute_result"
    }
   ],
   "source": [
    "traindf.head()"
   ]
  },
  {
   "cell_type": "code",
   "execution_count": 15,
   "metadata": {},
   "outputs": [
    {
     "data": {
      "text/plain": [
       "(39774, 2963)"
      ]
     },
     "execution_count": 15,
     "metadata": {},
     "output_type": "execute_result"
    }
   ],
   "source": [
    "corpus_train = traindf['ingredients_string']\n",
    "vectorizer_train = TfidfVectorizer(stop_words='english', ngram_range = ( 1 , 1 ),analyzer=\"word\", \\\n",
    "                               max_df = .57 , binary=False , token_pattern=r'\\w+' , sublinear_tf=False)\n",
    "\n",
    "tfidf_tr=vectorizer_train.fit_transform(corpus_train)\n",
    "tfidf_tr.shape"
   ]
  },
  {
   "cell_type": "markdown",
   "metadata": {},
   "source": [
    "So, by using this method with lemmatizing and Term-document inverse frequency weighting, we get this down to 2963 features. Documentation for the call is here: https://scikit-learn.org/stable/modules/generated/sklearn.feature_extraction.text.TfidfVectorizer.html#sklearn.feature_extraction.text.TfidfVectorizer\n",
    "\n",
    "Basically, the important parts:\n",
    "* We are excluded pre-selected stop words for the english language. These are all presumed to not really bring a lot of meaning and we shouldn't be losing a lot here.\n",
    "* We are only using 1-grams so this is being done on a word-by-word basis\n",
    "* We are analyzing word-by-word, extraneous characters are not included\n",
    "* We are only including words that are found in 57% or more of the documents. May want to think of this as a parameter to tune\n",
    "* We are choosing not to use smoothing"
   ]
  },
  {
   "cell_type": "code",
   "execution_count": 18,
   "metadata": {},
   "outputs": [],
   "source": [
    "corpus_ts = testdf['ingredients_string']\n",
    "vectorizer_ts = TfidfVectorizer(stop_words='english')\n",
    "tfidf_ts = vectorizer_train.transform(corpus_ts)"
   ]
  },
  {
   "cell_type": "code",
   "execution_count": 19,
   "metadata": {
    "collapsed": true
   },
   "outputs": [],
   "source": [
    "predictors_tr = tfidf_tr\n",
    "targets_tr = traindf['cuisine']\n",
    "predictors_ts = tfidf_ts"
   ]
  },
  {
   "cell_type": "code",
   "execution_count": 20,
   "metadata": {},
   "outputs": [
    {
     "data": {
      "text/plain": [
       "(39774, 2963)"
      ]
     },
     "execution_count": 20,
     "metadata": {},
     "output_type": "execute_result"
    }
   ],
   "source": [
    "predictors_tr.shape"
   ]
  },
  {
   "cell_type": "code",
   "execution_count": 21,
   "metadata": {},
   "outputs": [
    {
     "data": {
      "text/plain": [
       "(9944, 2963)"
      ]
     },
     "execution_count": 21,
     "metadata": {},
     "output_type": "execute_result"
    }
   ],
   "source": [
    "predictors_ts.shape"
   ]
  },
  {
   "cell_type": "code",
   "execution_count": 22,
   "metadata": {},
   "outputs": [
    {
     "data": {
      "text/plain": [
       "(39774,)"
      ]
     },
     "execution_count": 22,
     "metadata": {},
     "output_type": "execute_result"
    }
   ],
   "source": [
    "targets_tr.shape"
   ]
  },
  {
   "cell_type": "markdown",
   "metadata": {},
   "source": [
    "At this point, we've done some major preprocessing to our data and have gotten the data down to 2963 features. We should do a training/validation split to assess model performance. Nearly 40k training samples is enough for us to say that we shouldn't really have to worry too much about cross-validation in order to re-use the data. We should be concerned about significant class inbalance in training/validation sets, however. We can try a random split and see how well it does."
   ]
  },
  {
   "cell_type": "code",
   "execution_count": 25,
   "metadata": {
    "collapsed": true
   },
   "outputs": [],
   "source": [
    "from sklearn.model_selection import train_test_split\n",
    "\n",
    "X_train, X_valid, y_train, y_valid = train_test_split(predictors_tr, targets_tr, test_size=0.2, random_state=42)"
   ]
  },
  {
   "cell_type": "code",
   "execution_count": 26,
   "metadata": {
    "collapsed": true
   },
   "outputs": [],
   "source": [
    "def barchart_cuisines(labels):\n",
    "    unique_ar = np.unique(labels, return_counts=True)\n",
    "    x = np.arange(unique_ar[0].shape[0])\n",
    "    plt.barh(x,unique_ar[1])\n",
    "    plt.yticks(x, unique_ar[0])\n",
    "    plt.show()"
   ]
  },
  {
   "cell_type": "code",
   "execution_count": 27,
   "metadata": {},
   "outputs": [
    {
     "data": {
      "image/png": "[encoded data removed]",
      "text/plain": [
       "<Figure size 432x288 with 1 Axes>"
      ]
     },
     "metadata": {},
     "output_type": "display_data"
    }
   ],
   "source": [
    "barchart_cuisines(y_train)"
   ]
  },
  {
   "cell_type": "code",
   "execution_count": 28,
   "metadata": {},
   "outputs": [
    {
     "data": {
      "image/png": "[encoded data removed]",
      "text/plain": [
       "<Figure size 432x288 with 1 Axes>"
      ]
     },
     "metadata": {},
     "output_type": "display_data"
    }
   ],
   "source": [
    "barchart_cuisines(y_valid)"
   ]
  },
  {
   "cell_type": "markdown",
   "metadata": {},
   "source": [
    "The classes seem more or less balanced... we can tweak this later as needed. Now let's use a logistic regression as a baseline."
   ]
  },
  {
   "cell_type": "code",
   "execution_count": 35,
   "metadata": {},
   "outputs": [
    {
     "name": "stderr",
     "output_type": "stream",
     "text": [
      "C:\\Users\\johnb\\Anaconda3\\lib\\site-packages\\sklearn\\linear_model\\logistic.py:433: FutureWarning: Default solver will be changed to 'lbfgs' in 0.22. Specify a solver to silence this warning.\n",
      "  FutureWarning)\n",
      "C:\\Users\\johnb\\Anaconda3\\lib\\site-packages\\sklearn\\linear_model\\logistic.py:460: FutureWarning: Default multi_class will be changed to 'auto' in 0.22. Specify the multi_class option to silence this warning.\n",
      "  \"this warning.\", FutureWarning)\n"
     ]
    },
    {
     "name": "stdout",
     "output_type": "stream",
     "text": [
      "Logistic Regression results:\n",
      "0.7776241357636706\n",
      "[[  37    0    2    0    3    3    0    2    2    4    0    0    0   13\n",
      "     0    1   12    0    5    0]\n",
      " [   0   53    2    0    1   24    0    1   11   17    0    1    0    1\n",
      "     0    3   43    0    0    0]\n",
      " [   0    1  209    1    0   13    1    0    1   20    0    1    0   13\n",
      "     0    4   61    3    0    0]\n",
      " [   0    1    1  448    4    5    0    2    0    6    1   10    7    5\n",
      "     0    0    9    0    5    6]\n",
      " [   4    0    1   23   71    5    0    1    1    8    0    4    0    3\n",
      "     0    0   11    2    0    2]\n",
      " [   1    2    4    1    1  356    4    3    8  111    0    0    0    5\n",
      "     1    3   46    4    0    0]\n",
      " [   0    0    0    0    0    5  158    3    0   68    0    0    0    1\n",
      "     4    1    4    5    0    0]\n",
      " [   1    0    1    1    0    5    6  539    0    9    1    0    2   20\n",
      "     5    0    5    1    6    0]\n",
      " [   0    4    2    1    0   25    2    0   60   11    1    0    0    5\n",
      "     0    0   39    1    0    0]\n",
      " [   0    3    3    0    0   53   18    5    2 1432    0    2    0   11\n",
      "     3    1   28    6    0    0]\n",
      " [   1    0    0    0    0    3    0    5    1    2   54    1    0    9\n",
      "     0    0   15    0    0    0]\n",
      " [   0    0    0   43    0    5    0   23    0    5    0  195    6    1\n",
      "     0    0    2    0    3    1]\n",
      " [   0    0    0   28    0    1    0    0    0    3    0    6  120    3\n",
      "     0    0    2    0    1    2]\n",
      " [   1    0    1    2    0    6    1    7    0   24    1    2    0 1253\n",
      "     0    0   30    7    1    0]\n",
      " [   0    0    1    1    0    5    5    8    0   12    0    1    0    7\n",
      "   121    0    2    3    0    0]\n",
      " [   0    2    0    1    1   13    3    3    1   11    0    2    0    5\n",
      "     1   32   13    1    0    0]\n",
      " [   0    6   34    2    2   28    2    2    3   53    2    2    0   33\n",
      "     3    1  670    3    1    1]\n",
      " [   0    0    2    0    2   22    2    0    1   45    0    0    0   15\n",
      "     1    1   11   79    1    0]\n",
      " [   3    0    0   24    3    0    0   16    0    4    0    2    0    9\n",
      "     0    0    5    0  230   19]\n",
      " [   2    0    0   20    2    2    0    2    0    2    0    3    3    3\n",
      "     0    0    2    0   34   69]]\n"
     ]
    }
   ],
   "source": [
    "from sklearn.linear_model import LogisticRegression\n",
    "from sklearn.metrics import confusion_matrix\n",
    "\n",
    "log_clf = LogisticRegression().fit(X = X_train, y = y_train)\n",
    "log_preds = log_clf.predict(X_valid)\n",
    "log_accuracy = accuracy_score(y_pred=log_preds, y_true=y_valid)\n",
    "print(\"Logistic Regression results:\")\n",
    "print(log_accuracy)\n",
    "print(confusion_matrix(y_pred=log_preds, y_true=y_valid))\n"
   ]
  },
  {
   "cell_type": "code",
   "execution_count": 36,
   "metadata": {},
   "outputs": [
    {
     "data": {
      "text/plain": [
       "<matplotlib.image.AxesImage at 0x22953402358>"
      ]
     },
     "execution_count": 36,
     "metadata": {},
     "output_type": "execute_result"
    },
    {
     "data": {
      "image/png": "[encoded data removed]",
      "text/plain": [
       "<Figure size 432x288 with 1 Axes>"
      ]
     },
     "metadata": {},
     "output_type": "display_data"
    }
   ],
   "source": [
    "plt.imshow(confusion_matrix(y_pred=log_preds, y_true=y_valid))"
   ]
  },
  {
   "cell_type": "code",
   "execution_count": 45,
   "metadata": {
    "collapsed": true
   },
   "outputs": [],
   "source": [
    "# from https://scikit-learn.org/stable/auto_examples/model_selection/plot_confusion_matrix.html#sphx-glr-auto-examples-model-selection-plot-confusion-matrix-py\n",
    "import itertools\n",
    "def plot_confusion_matrix(cm, classes,\n",
    "                          normalize=False,\n",
    "                          title='Confusion matrix',\n",
    "                          cmap=plt.cm.Blues):\n",
    "    \"\"\"\n",
    "    This function prints and plots the confusion matrix.\n",
    "    Normalization can be applied by setting `normalize=True`.\n",
    "    \"\"\"\n",
    "    if normalize:\n",
    "        cm = cm.astype('float') / cm.sum(axis=1)[:, np.newaxis]\n",
    "        print(\"Normalized confusion matrix\")\n",
    "    else:\n",
    "        print('Confusion matrix, without normalization')\n",
    "\n",
    "#     print(cm)\n",
    "\n",
    "    plt.imshow(cm, interpolation='nearest', cmap=cmap)\n",
    "    plt.title(title)\n",
    "    plt.colorbar()\n",
    "    tick_marks = np.arange(len(classes))\n",
    "    plt.xticks(tick_marks, classes, rotation=90)\n",
    "    plt.yticks(tick_marks, classes)\n",
    "\n",
    "    fmt = '.2f' if normalize else 'd'\n",
    "    thresh = cm.max() / 2.\n",
    "\n",
    "\n",
    "    plt.ylabel('True label')\n",
    "    plt.xlabel('Predicted label')\n",
    "    plt.tight_layout()"
   ]
  },
  {
   "cell_type": "code",
   "execution_count": 46,
   "metadata": {},
   "outputs": [
    {
     "name": "stdout",
     "output_type": "stream",
     "text": [
      "Normalized confusion matrix\n"
     ]
    },
    {
     "data": {
      "image/png": "[encoded data removed]",
      "text/plain": [
       "<Figure size 432x288 with 2 Axes>"
      ]
     },
     "metadata": {},
     "output_type": "display_data"
    }
   ],
   "source": [
    "cnf_matrix = confusion_matrix(y_pred=log_preds, y_true=y_valid)\n",
    "class_names = np.unique(y_train, return_counts=False)\n",
    "\n",
    "plt.figure()\n",
    "plot_confusion_matrix(cnf_matrix, classes=class_names, normalize=True,\n",
    "                      title='Normalized confusion matrix')\n",
    "\n",
    "plt.show()"
   ]
  },
  {
   "cell_type": "markdown",
   "metadata": {},
   "source": [
    "We get pretty decent performance from just a regular logistic regression, which is more or less similar to a 1-layer neural net. It looks like we're having a hard time with `Russian`, `British`, and `Irish` primarily. We might expect for a lot of these to  be kinda similar, involving a lot of potato and meat. Let's pull up 3 of each of those to see what we have in there, and see where our model might be getting confused. "
   ]
  },
  {
   "cell_type": "code",
   "execution_count": 50,
   "metadata": {},
   "outputs": [],
   "source": [
    "irish_ex = np.nonzero(y_valid == \"irish\")\n",
    "russian_ex = np.nonzero(y_valid == 'russian')\n",
    "british_ex = np.nonzero(y_valid == 'british')"
   ]
  },
  {
   "cell_type": "code",
   "execution_count": 65,
   "metadata": {},
   "outputs": [
    {
     "data": {
      "text/plain": [
       "(array([  41,  140,  198,  315,  368,  405,  410,  468,  550,  558,  561,\n",
       "         589,  613,  636,  643,  653,  739,  770,  823,  855,  875,  914,\n",
       "         928,  944,  970,  975, 1079, 1189, 1317, 1376, 1403, 1440, 1470,\n",
       "        1606, 1619, 1652, 1685, 1713, 1791, 1801, 1809, 1838, 1876, 1898,\n",
       "        1929, 1939, 2025, 2055, 2189, 2260, 2297, 2386, 2554, 2665, 2672,\n",
       "        2706, 2708, 2829, 2856, 2944, 2961, 2973, 2980, 2988, 3013, 3077,\n",
       "        3106, 3181, 3235, 3272, 3282, 3301, 3466, 3469, 3481, 3563, 3641,\n",
       "        3668, 3700, 3724, 3771, 3810, 3836, 3864, 3873, 3900, 3933, 3997,\n",
       "        4006, 4030, 4060, 4075, 4216, 4238, 4309, 4317, 4332, 4489, 4576,\n",
       "        4593, 4617, 4645, 4785, 4821, 4873, 4900, 4932, 4938, 5157, 5317,\n",
       "        5430, 5465, 5525, 5528, 5568, 5622, 5679, 5681, 5764, 5784, 5839,\n",
       "        5907, 5920, 5982, 6039, 6075, 6138, 6183, 6352, 6420, 6480, 6535,\n",
       "        6537, 6546, 6695, 6730, 6758, 6878, 7049, 7080, 7203, 7225, 7339,\n",
       "        7467, 7522, 7579, 7705, 7761, 7890, 7903, 7934], dtype=int64),)"
      ]
     },
     "execution_count": 65,
     "metadata": {},
     "output_type": "execute_result"
    }
   ],
   "source": [
    "irish_ex"
   ]
  },
  {
   "cell_type": "code",
   "execution_count": 72,
   "metadata": {},
   "outputs": [
    {
     "name": "stdout",
     "output_type": "stream",
     "text": [
      "Irish\n",
      "[array(['guinness', 'beer', 'rising', 'self', 'molasses', 'white', 'sugar',\n",
      "       'butter', 'flour'], dtype='<U16')]\n",
      "Irish\n",
      "[array(['buttermilk', 'soda', 'spray', 'fat', 'purpose', 'low', 'baking',\n",
      "       'wheat', 'cooking', 'flour'], dtype='<U16')]\n",
      "Irish\n",
      "[array(['melted', 'potato', 'purpose', 'butter', 'flour'], dtype='<U16')]\n",
      "British\n",
      "[array(['rolled', 'oats', 'nonfat', 'pastry', 'raisin', 'soda', 'eggs',\n",
      "       'large', 'canola', 'white', 'baking', 'sugar', 'yogurt', 'wheat',\n",
      "       'butter', 'powder', 'oil', 'flour', 'plain'], dtype='<U16')]\n",
      "British\n",
      "[array(['raisins', 'raisin', 'yolks', 'golden', 'crust', 'unsalted',\n",
      "       'whipping', 'bread', 'large', 'slices', 'vanilla', 'sugar',\n",
      "       'cream', 'butter', 'milk', 'egg', 'beans'], dtype='<U16')]\n",
      "British\n",
      "[array(['cauliflower', 'nutmeg', 'cheddar', 'butter', 'oil', 'milk',\n",
      "       'ground', 'flour', 'plain', 'cheese', 'pepper', 'black'],\n",
      "      dtype='<U16')]\n",
      "Russian\n",
      "[array(['brine', 'pickle', 'dill', 'ribs', 'ham', 'celery', 'carrot',\n",
      "       'sour', 'broth', 'cilantro', 'chopped', 'olive', 'cream', 'lemon',\n",
      "       'paste', 'water', 'butter', 'chicken', 'tomato', 'flour', 'onion',\n",
      "       'pepper'], dtype='<U16')]\n",
      "Russian\n",
      "[array(['horseradish', 'sour', 'cream', 'pepper', 'black'], dtype='<U16')]\n",
      "Russian\n",
      "[array(['caviar', 'buckwheat', 'tips', 'active', 'yeast', 'dill',\n",
      "       'unsalted', 'salmon', 'smoked', 'sour', 'purpose', 'dry', 'sugar',\n",
      "       'cream', 'water', 'butter', 'oil', 'vegetable', 'milk', 'egg',\n",
      "       'flour'], dtype='<U16')]\n"
     ]
    }
   ],
   "source": [
    "for i in range(3):\n",
    "    print(\"Irish\")\n",
    "    print(vectorizer_train.inverse_transform(X_valid[irish_ex[0][i]]))\n",
    "for i in range(3):\n",
    "    print(\"British\")\n",
    "    print(vectorizer_train.inverse_transform(X_valid[british_ex[0][i]]))\n",
    "for i in range(3):\n",
    "    print(\"Russian\")\n",
    "    print(vectorizer_train.inverse_transform(X_valid[russian_ex[0][i]]))"
   ]
  },
  {
   "cell_type": "markdown",
   "metadata": {},
   "source": [
    "Looks like everything includes flour and some kind of dairy... I guess maybe there's some truth to a lot of European food being more or less the same. Let's try to do some deeper neural nets to see of they can figure this out better.\n",
    "\n",
    "Following a combination of fast.ai notebooks + pytorch tutorials\n",
    "https://pytorch.org/tutorials/beginner/blitz/cifar10_tutorial.html#sphx-glr-beginner-blitz-cifar10-tutorial-py\n",
    "\n",
    "\n",
    "Also maybe try this:\n",
    "\n",
    "https://yashuseth.blog/2018/07/22/pytorch-neural-network-for-tabular-data-with-categorical-embeddings/"
   ]
  },
  {
   "cell_type": "code",
   "execution_count": 74,
   "metadata": {},
   "outputs": [],
   "source": [
    "import torch.nn as nn"
   ]
  },
  {
   "cell_type": "code",
   "execution_count": 80,
   "metadata": {},
   "outputs": [],
   "source": [
    "# use torch framework to train a neural net\n",
    "net = nn.Sequential(\n",
    "    nn.Linear(predictors_tr.shape[1], 100),\n",
    "    nn.ReLU(),\n",
    "    nn.Linear(100, 100),\n",
    "    nn.ReLU(),\n",
    "    nn.Linear(100, np.unique(y_train).shape[0]),\n",
    "    nn.LogSoftmax()\n",
    ").cuda()"
   ]
  },
  {
   "cell_type": "code",
   "execution_count": 87,
   "metadata": {},
   "outputs": [
    {
     "name": "stdout",
     "output_type": "stream",
     "text": [
      "Downloading https://www.cs.toronto.edu/~kriz/cifar-10-python.tar.gz to ./data\\cifar-10-python.tar.gz\n"
     ]
    }
   ],
   "source": [
    "# import torch\n",
    "# import torchvision\n",
    "# import torchvision.transforms as transforms\n",
    "\n",
    "# transform = transforms.Compose(\n",
    "#     [transforms.ToTensor(),\n",
    "#      transforms.Normalize((0.5, 0.5, 0.5), (0.5, 0.5, 0.5))])\n",
    "\n",
    "# trainset = torchvision.datasets.CIFAR10(root='./data', train=True,\n",
    "#                                         download=True, transform=transform)\n",
    "# trainloader = torch.utils.data.DataLoader(trainset, batch_size=4,\n",
    "                                          shuffle=True, num_workers=2)"
   ]
  },
  {
   "cell_type": "code",
   "execution_count": 89,
   "metadata": {},
   "outputs": [
    {
     "data": {
      "text/plain": [
       "<torch.utils.data.dataloader.DataLoader at 0x229543ad198>"
      ]
     },
     "execution_count": 89,
     "metadata": {},
     "output_type": "execute_result"
    }
   ],
   "source": [
    "trainloader"
   ]
  },
  {
   "cell_type": "raw",
   "metadata": {},
   "source": []
  },
  {
   "cell_type": "code",
   "execution_count": 84,
   "metadata": {},
   "outputs": [],
   "source": [
    "import torch.optim as optim\n",
    "\n",
    "criterion = nn.CrossEntropyLoss()\n",
    "optimizer = optim.SGD(net.parameters(), lr=0.001, momentum=0.9)"
   ]
  },
  {
   "cell_type": "code",
   "execution_count": 91,
   "metadata": {},
   "outputs": [
    {
     "ename": "ValueError",
     "evalue": "not enough values to unpack (expected 2, got 1)",
     "output_type": "error",
     "traceback": [
      "\u001b[1;31m---------------------------------------------------------------------------\u001b[0m",
      "\u001b[1;31mValueError\u001b[0m                                Traceback (most recent call last)",
      "\u001b[1;32m<ipython-input-91-621a47bf66a9>\u001b[0m in \u001b[0;36m<module>\u001b[1;34m()\u001b[0m\n\u001b[0;32m      4\u001b[0m     \u001b[1;32mfor\u001b[0m \u001b[0mi\u001b[0m \u001b[1;32min\u001b[0m \u001b[0mrange\u001b[0m\u001b[1;33m(\u001b[0m\u001b[0mX_train\u001b[0m\u001b[1;33m.\u001b[0m\u001b[0mshape\u001b[0m\u001b[1;33m[\u001b[0m\u001b[1;36m0\u001b[0m\u001b[1;33m]\u001b[0m\u001b[1;33m)\u001b[0m\u001b[1;33m:\u001b[0m\u001b[1;33m\u001b[0m\u001b[0m\n\u001b[0;32m      5\u001b[0m         \u001b[1;31m# get the inputs\u001b[0m\u001b[1;33m\u001b[0m\u001b[1;33m\u001b[0m\u001b[0m\n\u001b[1;32m----> 6\u001b[1;33m         \u001b[0mi\u001b[0m\u001b[1;33m,\u001b[0m \u001b[0mX_train\u001b[0m\u001b[1;33m[\u001b[0m\u001b[0mi\u001b[0m\u001b[1;33m]\u001b[0m \u001b[1;33m=\u001b[0m \u001b[0mdata\u001b[0m\u001b[1;33m\u001b[0m\u001b[0m\n\u001b[0m\u001b[0;32m      7\u001b[0m \u001b[1;33m\u001b[0m\u001b[0m\n\u001b[0;32m      8\u001b[0m         \u001b[1;31m# zero the parameter gradients\u001b[0m\u001b[1;33m\u001b[0m\u001b[1;33m\u001b[0m\u001b[0m\n",
      "\u001b[1;31mValueError\u001b[0m: not enough values to unpack (expected 2, got 1)"
     ]
    }
   ],
   "source": [
    "for epoch in range(2):  # loop over the dataset multiple times\n",
    "\n",
    "    running_loss = 0.0\n",
    "    for i in enumerate(data, 0):\n",
    "        # get the inputs\n",
    "        i, X_train[i] = data\n",
    "\n",
    "        # zero the parameter gradients\n",
    "        optimizer.zero_grad()\n",
    "\n",
    "        # forward + backward + optimize\n",
    "        outputs = net(inputs)\n",
    "        loss = criterion(outputs, labels)\n",
    "        loss.backward()\n",
    "        optimizer.step()\n",
    "\n",
    "        # print statistics\n",
    "        running_loss += loss.item()\n",
    "        if i % 2000 == 1999:    # print every 2000 mini-batches\n",
    "            print('[%d, %5d] loss: %.3f' %\n",
    "                  (epoch + 1, i + 1, running_loss / 2000))\n",
    "            running_loss = 0.0\n",
    "\n",
    "print('Finished Training')"
   ]
  },
  {
   "cell_type": "code",
   "execution_count": null,
   "metadata": {
    "collapsed": true
   },
   "outputs": [],
   "source": []
  }
 ],
 "metadata": {
  "kernelspec": {
   "display_name": "Python 3",
   "language": "python",
   "name": "python3"
  },
  "language_info": {
   "codemirror_mode": {
    "name": "ipython",
    "version": 3
   },
   "file_extension": ".py",
   "mimetype": "text/x-python",
   "name": "python",
   "nbconvert_exporter": "python",
   "pygments_lexer": "ipython3",
   "version": "3.6.3"
  }
 },
 "nbformat": 4,
 "nbformat_minor": 2
}
